{
 "cells": [
  {
   "cell_type": "markdown",
   "metadata": {},
   "source": [
    "# Exam Data Science 1 (2020 - 2021)"
   ]
  },
  {
   "cell_type": "markdown",
   "metadata": {},
   "source": [
    "## General Information"
   ]
  },
  {
   "cell_type": "markdown",
   "metadata": {},
   "source": [
    "Data source:\n",
    "https://archive.ics.uci.edu/ml/datasets/student%2Bperformance"
   ]
  },
  {
   "cell_type": "markdown",
   "metadata": {},
   "source": [
    "#### ***Personal Information***\n",
    "\n",
    "First name:\n",
    "\n",
    "Last name:\n",
    "\n",
    "Student number:"
   ]
  },
  {
   "cell_type": "markdown",
   "metadata": {},
   "source": [
    "#### ***Imports***"
   ]
  },
  {
   "cell_type": "code",
   "execution_count": 3,
   "metadata": {},
   "outputs": [],
   "source": [
    "# put all your library imports here\n",
    "import numpy as np\n",
    "from random import randrange"
   ]
  },
  {
   "cell_type": "markdown",
   "metadata": {},
   "source": [
    "#### ***Data Assignment***\n",
    "\n",
    "You need only use a selection of the original dataset. The variables have been grouped into several groups. You will use the *Basic* Group along with 2 other groups to predict G3.\n",
    "Each group has been given a number.\n",
    "\n",
    "The following script will assign you the numbers of the groups you will need to use in the assignment. Replace my personel number with your student number, and run the script **once**. After you have run the script, paste a screenshot below. This is of utmost importance, as the data assignment script uses random numbers."
   ]
  },
  {
   "cell_type": "markdown",
   "metadata": {},
   "source": [
    "Variable to predict:\n",
    "+ G3\n",
    "\n",
    "Basic:\n",
    "+ school\n",
    "+ sex\n",
    "+ age\n",
    "+ address\n",
    "+ famsize\n",
    "\n",
    "[1] Parents:\n",
    "+ Medu\n",
    "+ Fedu\n",
    "+ Mjob\n",
    "+ Fjob\n",
    "\n",
    "[2] Surrounding: \n",
    "+ reason\n",
    "+ nursery\n",
    "+ internet\n",
    "\n",
    "[3] Extra:\n",
    "+ freetime\n",
    "+ guardian\n",
    "+ traveltime\n",
    "+ studytime\n",
    "+ failures\n",
    "\n",
    "[4] Support:\n",
    "+ schoolsup\n",
    "+ famsup\n",
    "+ paid\n",
    "\n",
    "[5] Extra curricular:\n",
    "+ activities\n",
    "+ higher\n",
    "+ romantic\n",
    "+ famrel\n",
    "\n",
    "[6] Relaxation:\n",
    "+ goout\n",
    "+ Dalc\n",
    "+ Walc\n",
    "\n",
    "[7] Health:\n",
    "+ health\n",
    "+ absences\n"
   ]
  },
  {
   "cell_type": "code",
   "execution_count": 26,
   "metadata": {},
   "outputs": [
    {
     "name": "stdout",
     "output_type": "stream",
     "text": [
      "Your groups are: 5 and 1\n"
     ]
    }
   ],
   "source": [
    "studentnumber = \"u0129914\"\n",
    "\n",
    "def stdnr_splitter(studentnumber):\n",
    "\t# decompose student number into interesting \n",
    "\tcons_array = np.array(list(studentnumber))[2:].astype(int)\n",
    "\tindices = np.unique(cons_array)\n",
    "\tsum = round(np.sum(cons_array)/6)+1\n",
    "\trandom = randrange(7)+1\n",
    "\t# interaction terms\n",
    "\tvar1_index = int(round((sum*random)/7)+1)\n",
    "\t# quadratic terms\n",
    "\tvar2a_index = int(round((sum/random)))\n",
    "\tvar2b_index = int(round((randrange(10)+1)%var2a_index))\n",
    "\tprint(f\"Your groups are: {var1_index} and {var2a_index}\")\n",
    "\n",
    "stdnr_splitter(studentnumber)"
   ]
  },
  {
   "cell_type": "markdown",
   "metadata": {},
   "source": [
    "<!-- Uncomment this, and use the code below to paste your screenshot.\n",
    "     Make absolutely sure you upload this screenshot, in the provided folder structure in your upload!\n",
    "![data assignment screenshot](path/to/screenshot.png \"Data Assignment\")\n",
    "-->"
   ]
  },
  {
   "cell_type": "markdown",
   "metadata": {},
   "source": [
    "## Assignment"
   ]
  },
  {
   "cell_type": "markdown",
   "metadata": {},
   "source": [
    "### Question 1: General"
   ]
  },
  {
   "cell_type": "markdown",
   "metadata": {},
   "source": [
    "Welcome to the Data Science Fundamentals exam!"
   ]
  },
  {
   "cell_type": "markdown",
   "metadata": {},
   "source": [
    "#### Question 1a\n",
    "\n",
    "In this take-home exam, you will try and apply everything you have learned this semester to 1 dataset. The dataset you will be working with, is . As very first assignment, you load in the dataset here, and divide it over 2 dataframes: *X_df* and *Y_df*. The former should contain all the independent variables present in the dataset, while the latter contains all the dependent variables. \n",
    "Do so here:\n"
   ]
  },
  {
   "cell_type": "code",
   "execution_count": null,
   "metadata": {},
   "outputs": [],
   "source": [
    "# import data and divide over dataframes"
   ]
  },
  {
   "cell_type": "markdown",
   "metadata": {},
   "source": [
    "explain what you have done and why here"
   ]
  },
  {
   "cell_type": "markdown",
   "metadata": {},
   "source": [
    "#### Question 1b\n",
    "\n",
    "**You are not permitted to use all variables in your analysis**.\n",
    "Using the *Data Assignment* script above, you will receive the variables you are allowed to use.\n",
    "Before you go any further, you should take a look at the variables that have been assigned to you. For these variables, you will add 1 quadratic term and 1 interaction term.\n",
    "\n",
    "A Quadratic Term is a transformation of an existing variable. Let's say I have variable $x$ in my dataset, the quadratic term would then be $x^2$. Make the quadratic term that is asked from you by the *Data Assignment* script, and add it to the dataframe containing your independent variables. Note: when you add a quadratic term of a variable which is not yet in your dataframe, you also need to add the underlying variable to your dataframe! Otherwise, your analyses will not make any sense.\n",
    "\n",
    "An Interaction Term is the multiplication of two existing terms. Let's say I have variables $x$ and $y$ in my dataset, the interaction term would then be $x*y$. Note: the same remark as with the quadratic term holds. The original terms also need to be present in your dataframe. If they are not in there yet, please add them!\n",
    "\n",
    "\n",
    "Make a new dataframe, called *X_df_complete* in which you select the relevant dependent variables and add the Quadratic and Interaction Term. Do so here:"
   ]
  },
  {
   "cell_type": "code",
   "execution_count": null,
   "metadata": {},
   "outputs": [],
   "source": [
    "# make complete dataframe"
   ]
  },
  {
   "cell_type": "markdown",
   "metadata": {},
   "source": [
    "#### Question 1c\n",
    "\n",
    "What does the Interaction Term and the Quadratic Term signify? Investigate, illustrate with graphs, and report below:"
   ]
  },
  {
   "cell_type": "code",
   "execution_count": 5,
   "metadata": {},
   "outputs": [],
   "source": [
    "## code exploring the interaction term"
   ]
  },
  {
   "cell_type": "markdown",
   "metadata": {},
   "source": [
    "explanation and interpretation of the interaction term goes here\n"
   ]
  },
  {
   "cell_type": "code",
   "execution_count": 6,
   "metadata": {},
   "outputs": [],
   "source": [
    "## code exploring the quadratic term"
   ]
  },
  {
   "cell_type": "markdown",
   "metadata": {},
   "source": [
    "explanation and interpretation of the quadratic term goes here\n"
   ]
  },
  {
   "cell_type": "markdown",
   "metadata": {},
   "source": [
    "#### Question 1d\n",
    "\n",
    "Form your training and test set. Explain why you do this."
   ]
  },
  {
   "cell_type": "code",
   "execution_count": 7,
   "metadata": {},
   "outputs": [],
   "source": [
    "## code making the training and test set"
   ]
  },
  {
   "cell_type": "markdown",
   "metadata": {},
   "source": [
    "explanation on training and test set goes here"
   ]
  },
  {
   "cell_type": "markdown",
   "metadata": {},
   "source": [
    "# *Intermezzo*\n",
    "\n",
    "Note the nice formatting we have used in Question 1. It is expected of you to do the same for Questions 2-5. Because I do not know exactly what you will do in each of these questions, I have not provided a blueprint of the solutions formatting."
   ]
  },
  {
   "cell_type": "markdown",
   "metadata": {},
   "source": [
    "### Question 2: Regression"
   ]
  },
  {
   "cell_type": "markdown",
   "metadata": {},
   "source": [
    "You will note that the dependent variable is continuous. Perform a regression analysis. (Also experiment with the interaction & quadratic terms, and report on what happens). Be complete!"
   ]
  },
  {
   "cell_type": "code",
   "execution_count": null,
   "metadata": {},
   "outputs": [],
   "source": [
    "# have fun!"
   ]
  },
  {
   "cell_type": "markdown",
   "metadata": {},
   "source": [
    "### Question 3: Classification"
   ]
  },
  {
   "cell_type": "markdown",
   "metadata": {},
   "source": [
    "Though we know that the dependent variable is continuous, this does not by any means mean that we can't perform a classification analysis. Encode the dependent variables into several categories you find logical (report which ones and why), and perform a classification analysis on this encoded variable. (Once again, don't be too fast to omit the interaction & quadratic terms). Be complete!"
   ]
  },
  {
   "cell_type": "code",
   "execution_count": null,
   "metadata": {},
   "outputs": [],
   "source": [
    "# go go go go go!"
   ]
  },
  {
   "cell_type": "markdown",
   "metadata": {},
   "source": [
    "### Question 4: Clustering"
   ]
  },
  {
   "cell_type": "markdown",
   "metadata": {},
   "source": [
    "Now we have analysed the dataset in a supervised manner, let's try and investigate whether this supervised dimension indeed offers additional information. Perform a cluster analysis on the dependent variables, and compare your predictive power with the models you have made in Question 2 and 3. Be complete!"
   ]
  },
  {
   "cell_type": "code",
   "execution_count": null,
   "metadata": {},
   "outputs": [],
   "source": [
    "# in the home stretch!"
   ]
  },
  {
   "cell_type": "markdown",
   "metadata": {},
   "source": [
    "### Question 5: Conclusion"
   ]
  },
  {
   "cell_type": "markdown",
   "metadata": {},
   "source": [
    "As always: report, conclude, illustrate."
   ]
  },
  {
   "cell_type": "code",
   "execution_count": null,
   "metadata": {},
   "outputs": [],
   "source": [
    "# now onto the next exam! ;-)"
   ]
  }
 ],
 "metadata": {
  "kernelspec": {
   "display_name": "Python 3",
   "language": "python",
   "name": "python3"
  },
  "language_info": {
   "codemirror_mode": {
    "name": "ipython",
    "version": 3
   },
   "file_extension": ".py",
   "mimetype": "text/x-python",
   "name": "python",
   "nbconvert_exporter": "python",
   "pygments_lexer": "ipython3",
   "version": "3.8.6"
  }
 },
 "nbformat": 4,
 "nbformat_minor": 4
}
