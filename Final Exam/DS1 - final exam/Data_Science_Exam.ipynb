{
 "cells": [
  {
   "cell_type": "markdown",
   "metadata": {},
   "source": [
    "# Exam Data Science 1 (2021 - 2022)"
   ]
  },
  {
   "cell_type": "markdown",
   "metadata": {},
   "source": [
    "## General Information"
   ]
  },
  {
   "cell_type": "markdown",
   "metadata": {},
   "source": [
    "Data source:\n",
    "https://archive.ics.uci.edu/ml/datasets/student%2Bperformance"
   ]
  },
  {
   "cell_type": "code",
   "execution_count": 142,
   "outputs": [],
   "source": [
    "from IPython import display"
   ],
   "metadata": {
    "collapsed": false,
    "pycharm": {
     "name": "#%%\n"
    }
   }
  },
  {
   "cell_type": "markdown",
   "metadata": {},
   "source": [
    "#### ***Personal Information***\n",
    "\n",
    "First name: Njau\n",
    "\n",
    "Last name: Moses\n",
    "\n",
    "Student number: r0853097\n",
    "\n",
    "In regards to the image, i could not paste a screenshot, therefore i decided to save it in the same directory as this .ipynb. It is under the group_nums: \"Your groups are: 2 and 6\""
   ]
  },
  {
   "cell_type": "markdown",
   "metadata": {},
   "source": [
    "#### ***Imports***"
   ]
  },
  {
   "cell_type": "code",
   "execution_count": 143,
   "metadata": {},
   "outputs": [],
   "source": [
    "# put all your library imports here\n",
    "import numpy as np\n",
    "from random import randrange\n",
    "from sklearn import datasets\n",
    "import matplotlib.pyplot as plt\n",
    "from matplotlib.pyplot import plot\n",
    "import seaborn as sns#; sns.set()\n",
    "from sklearn import metrics\n",
    "from sklearn.model_selection import train_test_split\n",
    "from sklearn.linear_model import LinearRegression\n",
    "from sklearn.linear_model import LogisticRegression\n",
    "from sklearn.preprocessing import PolynomialFeatures\n",
    "from sklearn.datasets import make_blobs\n",
    "from sklearn.metrics import classification_report\n",
    "from sklearn import datasets, svm, metrics\n",
    "import pandas as pd\n",
    "from pandas.plotting import scatter_matrix\n",
    "from sklearn.tree import DecisionTreeClassifier\n",
    "from sklearn.neighbors import KNeighborsClassifier\n",
    "from sklearn.preprocessing import StandardScaler\n",
    "import statsmodels.formula.api as smf\n",
    "from statsmodels.graphics.factorplots import interaction_plot\n",
    "from sklearn.cluster import KMeans\n",
    "from sklearn.metrics import r2_score"
   ]
  },
  {
   "cell_type": "markdown",
   "metadata": {},
   "source": [
    "#### ***Data Assignment***\n",
    "\n",
    "You need only use a selection of the original dataset. The variables have been grouped into several groups. You will use the *Basic* Group along with 2 other groups to predict G3.\n",
    "Each group has been given a number.\n",
    "\n",
    "The following script will assign you the numbers of the groups you will need to use in the assignment. Replace my personel number with your student number, and run the script **once**. After you have run the script, paste a screenshot below. This is of utmost importance, as the data assignment script uses random numbers.\n",
    "\n",
    "Attribute Information:\n",
    "\n",
    "#### Attributes for both (Portuguese language course) datasets:\n",
    "1 school - student's school (binary: 'GP' - Gabriel Pereira or 'MS' - Mousinho da Silveira)\n",
    "2 sex - student's sex (binary: 'F' - female or 'M' - male)\n",
    "3 age - student's age (numeric: from 15 to 22)\n",
    "4 address - student's home address type (binary: 'U' - urban or 'R' - rural)\n",
    "5 famsize - family size (binary: 'LE3' - less or equal to 3 or 'GT3' - greater than 3)\n",
    "11 reason - reason to choose this school (nominal: close to 'home', school 'reputation', 'course' preference or 'other')\n",
    "26 goout - going out with friends (numeric: from 1 - very low to 5 - very high)\n",
    "27 Dalc - workday alcohol consumption (numeric: from 1 - very low to 5 - very high)\n",
    "28 Walc - weekend alcohol consumption (numeric: from 1 - very low to 5 - very high)\n",
    "#### these grades are related with the course subject, Math or Portuguese:\n",
    "31 G1 - first period grade (numeric: from 0 to 20)\n",
    "31 G2 - second period grade (numeric: from 0 to 20)\n",
    "32 G3 - final grade (numeric: from 0 to 20, output target)\n"
   ]
  },
  {
   "cell_type": "markdown",
   "metadata": {},
   "source": [
    "Variable to predict:\n",
    "+ G3\n",
    "\n",
    "Basic:\n",
    "+ school\n",
    "+ sex\n",
    "+ age\n",
    "+ address\n",
    "+ famsize\n",
    "\n",
    "[1] Parents:\n",
    "+ Medu\n",
    "+ Fedu\n",
    "+ Mjob\n",
    "+ Fjob\n",
    "\n",
    "[2] Surrounding: \n",
    "+ reason\n",
    "+ nursery\n",
    "+ internet\n",
    "\n",
    "[3] Extra:\n",
    "+ freetime\n",
    "+ guardian\n",
    "+ traveltime\n",
    "+ studytime\n",
    "+ failures\n",
    "\n",
    "[4] Support:\n",
    "+ schoolsup\n",
    "+ famsup\n",
    "+ paid\n",
    "\n",
    "[5] Extra curricular:\n",
    "+ activities\n",
    "+ higher\n",
    "+ romantic\n",
    "+ famrel\n",
    "\n",
    "[6] Relaxation:\n",
    "+ goout\n",
    "+ Dalc\n",
    "+ Walc\n",
    "\n",
    "[7] Health:\n",
    "+ health\n",
    "+ absences\n"
   ]
  },
  {
   "cell_type": "code",
   "execution_count": 144,
   "metadata": {},
   "outputs": [
    {
     "name": "stdout",
     "output_type": "stream",
     "text": [
      "Your groups are: 2 and 6\n"
     ]
    }
   ],
   "source": [
    "studentnumber = \"r0853097\"\n",
    "\n",
    "def stdnr_splitter(studentnumber):\n",
    "\t# decompose student number into interesting \n",
    "\tcons_array = np.array(list(studentnumber))[2:].astype(int)\n",
    "\tindices = np.unique(cons_array)\n",
    "\tsum = round(np.sum(cons_array)/6)+1\n",
    "\trandom = randrange(7)+1\n",
    "\t# interaction terms\n",
    "\tvar1_index = int(round((sum*random)/7)+1)\n",
    "\t# quadratic terms\n",
    "\tvar2a_index = int(round((sum/random)))\n",
    "\tvar2b_index = int(round((randrange(10)+1)%var2a_index))\n",
    "\tprint(f\"Your groups are: {var1_index} and {var2a_index}\")\n",
    "\n",
    "stdnr_splitter(studentnumber)"
   ]
  },
  {
   "cell_type": "markdown",
   "metadata": {},
   "source": [
    "<!-- Uncomment this, and use the code below to paste your screenshot.\n",
    "     Make absolutely sure you upload this screenshot, in the provided folder structure in your upload!\n",
    "![data assignment screenshot](path/to/screenshot.png \"Data Assignment\")\n",
    "-->"
   ]
  },
  {
   "cell_type": "markdown",
   "metadata": {},
   "source": [
    "## Assignment"
   ]
  },
  {
   "cell_type": "markdown",
   "metadata": {},
   "source": [
    "### Question 1: General"
   ]
  },
  {
   "cell_type": "markdown",
   "metadata": {},
   "source": [
    "Welcome to the Data Science Fundamentals exam!"
   ]
  },
  {
   "cell_type": "markdown",
   "metadata": {},
   "source": [
    "#### Question 1a\n",
    "\n",
    "In this take-home exam, you will try and apply everything you have learned this semester to 1 dataset. The dataset you will be working with, is . As very first assignment, you load in the dataset here, and divide it over 2 dataframes: *X_df* and *Y_df*. The former should contain all the independent variables present in the dataset, while the latter contains all the dependent variables. \n",
    "Do so here:\n"
   ]
  },
  {
   "cell_type": "code",
   "execution_count": 145,
   "metadata": {},
   "outputs": [
    {
     "data": {
      "text/plain": "  school sex  age address famsize Pstatus  Medu  Fedu      Mjob      Fjob  \\\n0     GP   F   15       R     GT3       T     1     1   at_home     other   \n1     GP   F   15       R     GT3       T     1     1     other     other   \n2     GP   F   15       R     GT3       T     2     2   at_home     other   \n3     GP   F   15       R     GT3       T     2     4  services    health   \n4     GP   F   15       R     GT3       T     3     3  services  services   \n5     GP   F   15       R     GT3       T     3     4  services    health   \n6     GP   F   15       R     GT3       T     3     4  services   teacher   \n7     GP   F   15       R     LE3       T     2     2    health  services   \n8     GP   F   15       R     LE3       T     3     1     other     other   \n9     GP   F   15       U     GT3       A     3     3     other    health   \n\n       reason nursery internet guardian.x  traveltime.x  studytime.x  \\\n0        home     yes      yes     mother             2            4   \n1  reputation      no      yes     mother             1            2   \n2  reputation     yes       no     mother             1            1   \n3      course     yes      yes     mother             1            3   \n4  reputation     yes      yes      other             2            3   \n5      course     yes      yes     mother             1            3   \n6      course     yes      yes     father             2            3   \n7  reputation     yes      yes     mother             2            2   \n8  reputation      no      yes     father             2            4   \n9  reputation     yes       no     father             1            4   \n\n   failures.x schoolsup.x famsup.x paid.x activities.x higher.x romantic.x  \\\n0           1         yes      yes    yes          yes      yes         no   \n1           2         yes      yes     no           no      yes        yes   \n2           0         yes      yes    yes          yes      yes         no   \n3           0         yes      yes    yes          yes      yes         no   \n4           2          no      yes    yes          yes      yes        yes   \n5           0         yes      yes    yes          yes      yes         no   \n6           2          no      yes     no           no      yes        yes   \n7           0         yes      yes    yes           no      yes         no   \n8           0          no      yes     no           no      yes         no   \n9           0         yes       no     no           no      yes         no   \n\n   famrel.x  freetime.x  goout.x  Dalc.x  Walc.x  health.x  absences.x  G1.x  \\\n0         3           1        2       1       1         1           2     7   \n1         3           3        4       2       4         5           2     8   \n2         4           3        1       1       1         2           8    14   \n3         4           3        2       1       1         5           2    10   \n4         4           2        1       2       3         3           8    10   \n5         4           3        2       1       1         5           2    12   \n6         4           2        2       2       2         5           0    12   \n7         4           1        3       1       3         4           2     8   \n8         4           4        2       2       3         3          12    16   \n9         4           3        3       1       1         4          10    10   \n\n   G2.x  G3.x guardian.y  traveltime.y  studytime.y  failures.y schoolsup.y  \\\n0    10    10     mother             2            4           0         yes   \n1     6     5     mother             1            2           0         yes   \n2    13    13     mother             1            1           0         yes   \n3     9     8     mother             1            3           0         yes   \n4    10    10      other             2            3           0          no   \n5    12    11     mother             1            3           0         yes   \n6     0     0     father             2            3           0          no   \n7     9     8     mother             2            2           0         yes   \n8    16    16     father             2            4           0          no   \n9    11    11     father             1            4           0         yes   \n\n  famsup.y paid.y activities.y higher.y romantic.y  famrel.y  freetime.y  \\\n0      yes    yes          yes      yes         no         3           1   \n1      yes     no           no      yes        yes         3           3   \n2      yes     no          yes      yes         no         4           3   \n3      yes     no          yes      yes         no         4           3   \n4      yes    yes          yes      yes        yes         4           2   \n5      yes     no          yes      yes         no         4           3   \n6      yes     no           no      yes        yes         4           2   \n7      yes     no           no      yes         no         4           1   \n8      yes     no           no      yes         no         4           4   \n9       no     no           no      yes         no         4           3   \n\n   goout.y  Dalc.y  Walc.y  health.y  absences.y  G1.y  G2.y  G3.y  \n0        2       1       1         1           4    13    13    13  \n1        4       2       4         5           2    13    11    11  \n2        1       1       1         2           8    14    13    12  \n3        2       1       1         5           2    10    11    10  \n4        1       2       3         3           2    13    13    13  \n5        2       1       1         5           2    11    12    12  \n6        2       2       2         5           0    10    11    12  \n7        3       1       3         4           0    11    10    11  \n8        2       2       3         3           6    15    15    15  \n9        3       1       1         4          10    10    10    10  ",
      "text/html": "<div>\n<style scoped>\n    .dataframe tbody tr th:only-of-type {\n        vertical-align: middle;\n    }\n\n    .dataframe tbody tr th {\n        vertical-align: top;\n    }\n\n    .dataframe thead th {\n        text-align: right;\n    }\n</style>\n<table border=\"1\" class=\"dataframe\">\n  <thead>\n    <tr style=\"text-align: right;\">\n      <th></th>\n      <th>school</th>\n      <th>sex</th>\n      <th>age</th>\n      <th>address</th>\n      <th>famsize</th>\n      <th>Pstatus</th>\n      <th>Medu</th>\n      <th>Fedu</th>\n      <th>Mjob</th>\n      <th>Fjob</th>\n      <th>reason</th>\n      <th>nursery</th>\n      <th>internet</th>\n      <th>guardian.x</th>\n      <th>traveltime.x</th>\n      <th>studytime.x</th>\n      <th>failures.x</th>\n      <th>schoolsup.x</th>\n      <th>famsup.x</th>\n      <th>paid.x</th>\n      <th>activities.x</th>\n      <th>higher.x</th>\n      <th>romantic.x</th>\n      <th>famrel.x</th>\n      <th>freetime.x</th>\n      <th>goout.x</th>\n      <th>Dalc.x</th>\n      <th>Walc.x</th>\n      <th>health.x</th>\n      <th>absences.x</th>\n      <th>G1.x</th>\n      <th>G2.x</th>\n      <th>G3.x</th>\n      <th>guardian.y</th>\n      <th>traveltime.y</th>\n      <th>studytime.y</th>\n      <th>failures.y</th>\n      <th>schoolsup.y</th>\n      <th>famsup.y</th>\n      <th>paid.y</th>\n      <th>activities.y</th>\n      <th>higher.y</th>\n      <th>romantic.y</th>\n      <th>famrel.y</th>\n      <th>freetime.y</th>\n      <th>goout.y</th>\n      <th>Dalc.y</th>\n      <th>Walc.y</th>\n      <th>health.y</th>\n      <th>absences.y</th>\n      <th>G1.y</th>\n      <th>G2.y</th>\n      <th>G3.y</th>\n    </tr>\n  </thead>\n  <tbody>\n    <tr>\n      <th>0</th>\n      <td>GP</td>\n      <td>F</td>\n      <td>15</td>\n      <td>R</td>\n      <td>GT3</td>\n      <td>T</td>\n      <td>1</td>\n      <td>1</td>\n      <td>at_home</td>\n      <td>other</td>\n      <td>home</td>\n      <td>yes</td>\n      <td>yes</td>\n      <td>mother</td>\n      <td>2</td>\n      <td>4</td>\n      <td>1</td>\n      <td>yes</td>\n      <td>yes</td>\n      <td>yes</td>\n      <td>yes</td>\n      <td>yes</td>\n      <td>no</td>\n      <td>3</td>\n      <td>1</td>\n      <td>2</td>\n      <td>1</td>\n      <td>1</td>\n      <td>1</td>\n      <td>2</td>\n      <td>7</td>\n      <td>10</td>\n      <td>10</td>\n      <td>mother</td>\n      <td>2</td>\n      <td>4</td>\n      <td>0</td>\n      <td>yes</td>\n      <td>yes</td>\n      <td>yes</td>\n      <td>yes</td>\n      <td>yes</td>\n      <td>no</td>\n      <td>3</td>\n      <td>1</td>\n      <td>2</td>\n      <td>1</td>\n      <td>1</td>\n      <td>1</td>\n      <td>4</td>\n      <td>13</td>\n      <td>13</td>\n      <td>13</td>\n    </tr>\n    <tr>\n      <th>1</th>\n      <td>GP</td>\n      <td>F</td>\n      <td>15</td>\n      <td>R</td>\n      <td>GT3</td>\n      <td>T</td>\n      <td>1</td>\n      <td>1</td>\n      <td>other</td>\n      <td>other</td>\n      <td>reputation</td>\n      <td>no</td>\n      <td>yes</td>\n      <td>mother</td>\n      <td>1</td>\n      <td>2</td>\n      <td>2</td>\n      <td>yes</td>\n      <td>yes</td>\n      <td>no</td>\n      <td>no</td>\n      <td>yes</td>\n      <td>yes</td>\n      <td>3</td>\n      <td>3</td>\n      <td>4</td>\n      <td>2</td>\n      <td>4</td>\n      <td>5</td>\n      <td>2</td>\n      <td>8</td>\n      <td>6</td>\n      <td>5</td>\n      <td>mother</td>\n      <td>1</td>\n      <td>2</td>\n      <td>0</td>\n      <td>yes</td>\n      <td>yes</td>\n      <td>no</td>\n      <td>no</td>\n      <td>yes</td>\n      <td>yes</td>\n      <td>3</td>\n      <td>3</td>\n      <td>4</td>\n      <td>2</td>\n      <td>4</td>\n      <td>5</td>\n      <td>2</td>\n      <td>13</td>\n      <td>11</td>\n      <td>11</td>\n    </tr>\n    <tr>\n      <th>2</th>\n      <td>GP</td>\n      <td>F</td>\n      <td>15</td>\n      <td>R</td>\n      <td>GT3</td>\n      <td>T</td>\n      <td>2</td>\n      <td>2</td>\n      <td>at_home</td>\n      <td>other</td>\n      <td>reputation</td>\n      <td>yes</td>\n      <td>no</td>\n      <td>mother</td>\n      <td>1</td>\n      <td>1</td>\n      <td>0</td>\n      <td>yes</td>\n      <td>yes</td>\n      <td>yes</td>\n      <td>yes</td>\n      <td>yes</td>\n      <td>no</td>\n      <td>4</td>\n      <td>3</td>\n      <td>1</td>\n      <td>1</td>\n      <td>1</td>\n      <td>2</td>\n      <td>8</td>\n      <td>14</td>\n      <td>13</td>\n      <td>13</td>\n      <td>mother</td>\n      <td>1</td>\n      <td>1</td>\n      <td>0</td>\n      <td>yes</td>\n      <td>yes</td>\n      <td>no</td>\n      <td>yes</td>\n      <td>yes</td>\n      <td>no</td>\n      <td>4</td>\n      <td>3</td>\n      <td>1</td>\n      <td>1</td>\n      <td>1</td>\n      <td>2</td>\n      <td>8</td>\n      <td>14</td>\n      <td>13</td>\n      <td>12</td>\n    </tr>\n    <tr>\n      <th>3</th>\n      <td>GP</td>\n      <td>F</td>\n      <td>15</td>\n      <td>R</td>\n      <td>GT3</td>\n      <td>T</td>\n      <td>2</td>\n      <td>4</td>\n      <td>services</td>\n      <td>health</td>\n      <td>course</td>\n      <td>yes</td>\n      <td>yes</td>\n      <td>mother</td>\n      <td>1</td>\n      <td>3</td>\n      <td>0</td>\n      <td>yes</td>\n      <td>yes</td>\n      <td>yes</td>\n      <td>yes</td>\n      <td>yes</td>\n      <td>no</td>\n      <td>4</td>\n      <td>3</td>\n      <td>2</td>\n      <td>1</td>\n      <td>1</td>\n      <td>5</td>\n      <td>2</td>\n      <td>10</td>\n      <td>9</td>\n      <td>8</td>\n      <td>mother</td>\n      <td>1</td>\n      <td>3</td>\n      <td>0</td>\n      <td>yes</td>\n      <td>yes</td>\n      <td>no</td>\n      <td>yes</td>\n      <td>yes</td>\n      <td>no</td>\n      <td>4</td>\n      <td>3</td>\n      <td>2</td>\n      <td>1</td>\n      <td>1</td>\n      <td>5</td>\n      <td>2</td>\n      <td>10</td>\n      <td>11</td>\n      <td>10</td>\n    </tr>\n    <tr>\n      <th>4</th>\n      <td>GP</td>\n      <td>F</td>\n      <td>15</td>\n      <td>R</td>\n      <td>GT3</td>\n      <td>T</td>\n      <td>3</td>\n      <td>3</td>\n      <td>services</td>\n      <td>services</td>\n      <td>reputation</td>\n      <td>yes</td>\n      <td>yes</td>\n      <td>other</td>\n      <td>2</td>\n      <td>3</td>\n      <td>2</td>\n      <td>no</td>\n      <td>yes</td>\n      <td>yes</td>\n      <td>yes</td>\n      <td>yes</td>\n      <td>yes</td>\n      <td>4</td>\n      <td>2</td>\n      <td>1</td>\n      <td>2</td>\n      <td>3</td>\n      <td>3</td>\n      <td>8</td>\n      <td>10</td>\n      <td>10</td>\n      <td>10</td>\n      <td>other</td>\n      <td>2</td>\n      <td>3</td>\n      <td>0</td>\n      <td>no</td>\n      <td>yes</td>\n      <td>yes</td>\n      <td>yes</td>\n      <td>yes</td>\n      <td>yes</td>\n      <td>4</td>\n      <td>2</td>\n      <td>1</td>\n      <td>2</td>\n      <td>3</td>\n      <td>3</td>\n      <td>2</td>\n      <td>13</td>\n      <td>13</td>\n      <td>13</td>\n    </tr>\n    <tr>\n      <th>5</th>\n      <td>GP</td>\n      <td>F</td>\n      <td>15</td>\n      <td>R</td>\n      <td>GT3</td>\n      <td>T</td>\n      <td>3</td>\n      <td>4</td>\n      <td>services</td>\n      <td>health</td>\n      <td>course</td>\n      <td>yes</td>\n      <td>yes</td>\n      <td>mother</td>\n      <td>1</td>\n      <td>3</td>\n      <td>0</td>\n      <td>yes</td>\n      <td>yes</td>\n      <td>yes</td>\n      <td>yes</td>\n      <td>yes</td>\n      <td>no</td>\n      <td>4</td>\n      <td>3</td>\n      <td>2</td>\n      <td>1</td>\n      <td>1</td>\n      <td>5</td>\n      <td>2</td>\n      <td>12</td>\n      <td>12</td>\n      <td>11</td>\n      <td>mother</td>\n      <td>1</td>\n      <td>3</td>\n      <td>0</td>\n      <td>yes</td>\n      <td>yes</td>\n      <td>no</td>\n      <td>yes</td>\n      <td>yes</td>\n      <td>no</td>\n      <td>4</td>\n      <td>3</td>\n      <td>2</td>\n      <td>1</td>\n      <td>1</td>\n      <td>5</td>\n      <td>2</td>\n      <td>11</td>\n      <td>12</td>\n      <td>12</td>\n    </tr>\n    <tr>\n      <th>6</th>\n      <td>GP</td>\n      <td>F</td>\n      <td>15</td>\n      <td>R</td>\n      <td>GT3</td>\n      <td>T</td>\n      <td>3</td>\n      <td>4</td>\n      <td>services</td>\n      <td>teacher</td>\n      <td>course</td>\n      <td>yes</td>\n      <td>yes</td>\n      <td>father</td>\n      <td>2</td>\n      <td>3</td>\n      <td>2</td>\n      <td>no</td>\n      <td>yes</td>\n      <td>no</td>\n      <td>no</td>\n      <td>yes</td>\n      <td>yes</td>\n      <td>4</td>\n      <td>2</td>\n      <td>2</td>\n      <td>2</td>\n      <td>2</td>\n      <td>5</td>\n      <td>0</td>\n      <td>12</td>\n      <td>0</td>\n      <td>0</td>\n      <td>father</td>\n      <td>2</td>\n      <td>3</td>\n      <td>0</td>\n      <td>no</td>\n      <td>yes</td>\n      <td>no</td>\n      <td>no</td>\n      <td>yes</td>\n      <td>yes</td>\n      <td>4</td>\n      <td>2</td>\n      <td>2</td>\n      <td>2</td>\n      <td>2</td>\n      <td>5</td>\n      <td>0</td>\n      <td>10</td>\n      <td>11</td>\n      <td>12</td>\n    </tr>\n    <tr>\n      <th>7</th>\n      <td>GP</td>\n      <td>F</td>\n      <td>15</td>\n      <td>R</td>\n      <td>LE3</td>\n      <td>T</td>\n      <td>2</td>\n      <td>2</td>\n      <td>health</td>\n      <td>services</td>\n      <td>reputation</td>\n      <td>yes</td>\n      <td>yes</td>\n      <td>mother</td>\n      <td>2</td>\n      <td>2</td>\n      <td>0</td>\n      <td>yes</td>\n      <td>yes</td>\n      <td>yes</td>\n      <td>no</td>\n      <td>yes</td>\n      <td>no</td>\n      <td>4</td>\n      <td>1</td>\n      <td>3</td>\n      <td>1</td>\n      <td>3</td>\n      <td>4</td>\n      <td>2</td>\n      <td>8</td>\n      <td>9</td>\n      <td>8</td>\n      <td>mother</td>\n      <td>2</td>\n      <td>2</td>\n      <td>0</td>\n      <td>yes</td>\n      <td>yes</td>\n      <td>no</td>\n      <td>no</td>\n      <td>yes</td>\n      <td>no</td>\n      <td>4</td>\n      <td>1</td>\n      <td>3</td>\n      <td>1</td>\n      <td>3</td>\n      <td>4</td>\n      <td>0</td>\n      <td>11</td>\n      <td>10</td>\n      <td>11</td>\n    </tr>\n    <tr>\n      <th>8</th>\n      <td>GP</td>\n      <td>F</td>\n      <td>15</td>\n      <td>R</td>\n      <td>LE3</td>\n      <td>T</td>\n      <td>3</td>\n      <td>1</td>\n      <td>other</td>\n      <td>other</td>\n      <td>reputation</td>\n      <td>no</td>\n      <td>yes</td>\n      <td>father</td>\n      <td>2</td>\n      <td>4</td>\n      <td>0</td>\n      <td>no</td>\n      <td>yes</td>\n      <td>no</td>\n      <td>no</td>\n      <td>yes</td>\n      <td>no</td>\n      <td>4</td>\n      <td>4</td>\n      <td>2</td>\n      <td>2</td>\n      <td>3</td>\n      <td>3</td>\n      <td>12</td>\n      <td>16</td>\n      <td>16</td>\n      <td>16</td>\n      <td>father</td>\n      <td>2</td>\n      <td>4</td>\n      <td>0</td>\n      <td>no</td>\n      <td>yes</td>\n      <td>no</td>\n      <td>no</td>\n      <td>yes</td>\n      <td>no</td>\n      <td>4</td>\n      <td>4</td>\n      <td>2</td>\n      <td>2</td>\n      <td>3</td>\n      <td>3</td>\n      <td>6</td>\n      <td>15</td>\n      <td>15</td>\n      <td>15</td>\n    </tr>\n    <tr>\n      <th>9</th>\n      <td>GP</td>\n      <td>F</td>\n      <td>15</td>\n      <td>U</td>\n      <td>GT3</td>\n      <td>A</td>\n      <td>3</td>\n      <td>3</td>\n      <td>other</td>\n      <td>health</td>\n      <td>reputation</td>\n      <td>yes</td>\n      <td>no</td>\n      <td>father</td>\n      <td>1</td>\n      <td>4</td>\n      <td>0</td>\n      <td>yes</td>\n      <td>no</td>\n      <td>no</td>\n      <td>no</td>\n      <td>yes</td>\n      <td>no</td>\n      <td>4</td>\n      <td>3</td>\n      <td>3</td>\n      <td>1</td>\n      <td>1</td>\n      <td>4</td>\n      <td>10</td>\n      <td>10</td>\n      <td>11</td>\n      <td>11</td>\n      <td>father</td>\n      <td>1</td>\n      <td>4</td>\n      <td>0</td>\n      <td>yes</td>\n      <td>no</td>\n      <td>no</td>\n      <td>no</td>\n      <td>yes</td>\n      <td>no</td>\n      <td>4</td>\n      <td>3</td>\n      <td>3</td>\n      <td>1</td>\n      <td>1</td>\n      <td>4</td>\n      <td>10</td>\n      <td>10</td>\n      <td>10</td>\n      <td>10</td>\n    </tr>\n  </tbody>\n</table>\n</div>"
     },
     "execution_count": 145,
     "metadata": {},
     "output_type": "execute_result"
    }
   ],
   "source": [
    "# import data and divide over dataframes\n",
    "df = pd.read_csv(\"student.csv\")\n",
    "df.head(10)"
   ]
  },
  {
   "cell_type": "markdown",
   "metadata": {},
   "source": []
  },
  {
   "cell_type": "code",
   "execution_count": 146,
   "outputs": [
    {
     "data": {
      "text/plain": "    school sex  age address famsize      reason nursery internet  goout.x  \\\n0       GP   F   15       R     GT3        home     yes      yes        2   \n1       GP   F   15       R     GT3  reputation      no      yes        4   \n2       GP   F   15       R     GT3  reputation     yes       no        1   \n3       GP   F   15       R     GT3      course     yes      yes        2   \n4       GP   F   15       R     GT3  reputation     yes      yes        1   \n..     ...  ..  ...     ...     ...         ...     ...      ...      ...   \n377     MS   M   18       U     LE3      course     yes      yes        3   \n378     MS   M   18       U     LE3       other     yes      yes        2   \n379     MS   M   19       R     GT3        home     yes      yes        4   \n380     MS   M   19       R     GT3        home     yes      yes        4   \n381     MS   M   19       R     GT3       other     yes       no        2   \n\n     goout.y  Dalc.x  Dalc.y  Walc.x  Walc.y  G1.x  G2.x  G3.x  G1.y  G2.y  \\\n0          2       1       1       1       1     7    10    10    13    13   \n1          4       2       2       4       4     8     6     5    13    11   \n2          1       1       1       1       1    14    13    13    14    13   \n3          2       1       1       1       1    10     9     8    10    11   \n4          1       2       2       3       3    10    10    10    13    13   \n..       ...     ...     ...     ...     ...   ...   ...   ...   ...   ...   \n377        3       2       2       3       3     8     7     8     9    10   \n378        2       2       2       2       2    13    13    13    15    16   \n379        4       3       3       3       3     8     8     8     8     9   \n380        4       3       3       3       3     8     7     8    10     9   \n381        2       1       1       3       3     6     5     0     5     8   \n\n     G3.y  \n0      13  \n1      11  \n2      12  \n3      10  \n4      13  \n..    ...  \n377     9  \n378    16  \n379    10  \n380    11  \n381     0  \n\n[382 rows x 20 columns]",
      "text/html": "<div>\n<style scoped>\n    .dataframe tbody tr th:only-of-type {\n        vertical-align: middle;\n    }\n\n    .dataframe tbody tr th {\n        vertical-align: top;\n    }\n\n    .dataframe thead th {\n        text-align: right;\n    }\n</style>\n<table border=\"1\" class=\"dataframe\">\n  <thead>\n    <tr style=\"text-align: right;\">\n      <th></th>\n      <th>school</th>\n      <th>sex</th>\n      <th>age</th>\n      <th>address</th>\n      <th>famsize</th>\n      <th>reason</th>\n      <th>nursery</th>\n      <th>internet</th>\n      <th>goout.x</th>\n      <th>goout.y</th>\n      <th>Dalc.x</th>\n      <th>Dalc.y</th>\n      <th>Walc.x</th>\n      <th>Walc.y</th>\n      <th>G1.x</th>\n      <th>G2.x</th>\n      <th>G3.x</th>\n      <th>G1.y</th>\n      <th>G2.y</th>\n      <th>G3.y</th>\n    </tr>\n  </thead>\n  <tbody>\n    <tr>\n      <th>0</th>\n      <td>GP</td>\n      <td>F</td>\n      <td>15</td>\n      <td>R</td>\n      <td>GT3</td>\n      <td>home</td>\n      <td>yes</td>\n      <td>yes</td>\n      <td>2</td>\n      <td>2</td>\n      <td>1</td>\n      <td>1</td>\n      <td>1</td>\n      <td>1</td>\n      <td>7</td>\n      <td>10</td>\n      <td>10</td>\n      <td>13</td>\n      <td>13</td>\n      <td>13</td>\n    </tr>\n    <tr>\n      <th>1</th>\n      <td>GP</td>\n      <td>F</td>\n      <td>15</td>\n      <td>R</td>\n      <td>GT3</td>\n      <td>reputation</td>\n      <td>no</td>\n      <td>yes</td>\n      <td>4</td>\n      <td>4</td>\n      <td>2</td>\n      <td>2</td>\n      <td>4</td>\n      <td>4</td>\n      <td>8</td>\n      <td>6</td>\n      <td>5</td>\n      <td>13</td>\n      <td>11</td>\n      <td>11</td>\n    </tr>\n    <tr>\n      <th>2</th>\n      <td>GP</td>\n      <td>F</td>\n      <td>15</td>\n      <td>R</td>\n      <td>GT3</td>\n      <td>reputation</td>\n      <td>yes</td>\n      <td>no</td>\n      <td>1</td>\n      <td>1</td>\n      <td>1</td>\n      <td>1</td>\n      <td>1</td>\n      <td>1</td>\n      <td>14</td>\n      <td>13</td>\n      <td>13</td>\n      <td>14</td>\n      <td>13</td>\n      <td>12</td>\n    </tr>\n    <tr>\n      <th>3</th>\n      <td>GP</td>\n      <td>F</td>\n      <td>15</td>\n      <td>R</td>\n      <td>GT3</td>\n      <td>course</td>\n      <td>yes</td>\n      <td>yes</td>\n      <td>2</td>\n      <td>2</td>\n      <td>1</td>\n      <td>1</td>\n      <td>1</td>\n      <td>1</td>\n      <td>10</td>\n      <td>9</td>\n      <td>8</td>\n      <td>10</td>\n      <td>11</td>\n      <td>10</td>\n    </tr>\n    <tr>\n      <th>4</th>\n      <td>GP</td>\n      <td>F</td>\n      <td>15</td>\n      <td>R</td>\n      <td>GT3</td>\n      <td>reputation</td>\n      <td>yes</td>\n      <td>yes</td>\n      <td>1</td>\n      <td>1</td>\n      <td>2</td>\n      <td>2</td>\n      <td>3</td>\n      <td>3</td>\n      <td>10</td>\n      <td>10</td>\n      <td>10</td>\n      <td>13</td>\n      <td>13</td>\n      <td>13</td>\n    </tr>\n    <tr>\n      <th>...</th>\n      <td>...</td>\n      <td>...</td>\n      <td>...</td>\n      <td>...</td>\n      <td>...</td>\n      <td>...</td>\n      <td>...</td>\n      <td>...</td>\n      <td>...</td>\n      <td>...</td>\n      <td>...</td>\n      <td>...</td>\n      <td>...</td>\n      <td>...</td>\n      <td>...</td>\n      <td>...</td>\n      <td>...</td>\n      <td>...</td>\n      <td>...</td>\n      <td>...</td>\n    </tr>\n    <tr>\n      <th>377</th>\n      <td>MS</td>\n      <td>M</td>\n      <td>18</td>\n      <td>U</td>\n      <td>LE3</td>\n      <td>course</td>\n      <td>yes</td>\n      <td>yes</td>\n      <td>3</td>\n      <td>3</td>\n      <td>2</td>\n      <td>2</td>\n      <td>3</td>\n      <td>3</td>\n      <td>8</td>\n      <td>7</td>\n      <td>8</td>\n      <td>9</td>\n      <td>10</td>\n      <td>9</td>\n    </tr>\n    <tr>\n      <th>378</th>\n      <td>MS</td>\n      <td>M</td>\n      <td>18</td>\n      <td>U</td>\n      <td>LE3</td>\n      <td>other</td>\n      <td>yes</td>\n      <td>yes</td>\n      <td>2</td>\n      <td>2</td>\n      <td>2</td>\n      <td>2</td>\n      <td>2</td>\n      <td>2</td>\n      <td>13</td>\n      <td>13</td>\n      <td>13</td>\n      <td>15</td>\n      <td>16</td>\n      <td>16</td>\n    </tr>\n    <tr>\n      <th>379</th>\n      <td>MS</td>\n      <td>M</td>\n      <td>19</td>\n      <td>R</td>\n      <td>GT3</td>\n      <td>home</td>\n      <td>yes</td>\n      <td>yes</td>\n      <td>4</td>\n      <td>4</td>\n      <td>3</td>\n      <td>3</td>\n      <td>3</td>\n      <td>3</td>\n      <td>8</td>\n      <td>8</td>\n      <td>8</td>\n      <td>8</td>\n      <td>9</td>\n      <td>10</td>\n    </tr>\n    <tr>\n      <th>380</th>\n      <td>MS</td>\n      <td>M</td>\n      <td>19</td>\n      <td>R</td>\n      <td>GT3</td>\n      <td>home</td>\n      <td>yes</td>\n      <td>yes</td>\n      <td>4</td>\n      <td>4</td>\n      <td>3</td>\n      <td>3</td>\n      <td>3</td>\n      <td>3</td>\n      <td>8</td>\n      <td>7</td>\n      <td>8</td>\n      <td>10</td>\n      <td>9</td>\n      <td>11</td>\n    </tr>\n    <tr>\n      <th>381</th>\n      <td>MS</td>\n      <td>M</td>\n      <td>19</td>\n      <td>R</td>\n      <td>GT3</td>\n      <td>other</td>\n      <td>yes</td>\n      <td>no</td>\n      <td>2</td>\n      <td>2</td>\n      <td>1</td>\n      <td>1</td>\n      <td>3</td>\n      <td>3</td>\n      <td>6</td>\n      <td>5</td>\n      <td>0</td>\n      <td>5</td>\n      <td>8</td>\n      <td>0</td>\n    </tr>\n  </tbody>\n</table>\n<p>382 rows × 20 columns</p>\n</div>"
     },
     "execution_count": 146,
     "metadata": {},
     "output_type": "execute_result"
    }
   ],
   "source": [
    "\"\"\"\n",
    "Basic:\n",
    "school, sex, age, address, famsize\n",
    "[2] Surrounding:\n",
    "reason, nursery, internet\n",
    "[6] Relaxation:\n",
    "goout, Dalc, Walc\n",
    "\"\"\"\n",
    "def select_columns(data_frame, column_names):\n",
    "\tnew_frame = data_frame.loc[:, column_names]\n",
    "\treturn new_frame\n",
    "selected_columns =  [\"school\",\"sex\",\"age\",\"address\",\"famsize\",\"reason\",\"nursery\",\"internet\",\"goout.x\",\"goout.y\",\"Dalc.x\",\"Dalc.y\",\"Walc.x\",\"Walc.y\",\"G1.x\",\"G2.x\",\"G3.x\",\"G1.y\",\"G2.y\",\"G3.y\"]\n",
    "df = select_columns(df, selected_columns)\n",
    "df"
   ],
   "metadata": {
    "collapsed": false,
    "pycharm": {
     "name": "#%%\n"
    }
   }
  },
  {
   "cell_type": "code",
   "execution_count": 147,
   "outputs": [
    {
     "name": "stdout",
     "output_type": "stream",
     "text": [
      "<class 'pandas.core.frame.DataFrame'>\n",
      "RangeIndex: 382 entries, 0 to 381\n",
      "Data columns (total 20 columns):\n",
      " #   Column    Non-Null Count  Dtype \n",
      "---  ------    --------------  ----- \n",
      " 0   school    382 non-null    object\n",
      " 1   sex       382 non-null    object\n",
      " 2   age       382 non-null    int64 \n",
      " 3   address   382 non-null    object\n",
      " 4   famsize   382 non-null    object\n",
      " 5   reason    382 non-null    object\n",
      " 6   nursery   382 non-null    object\n",
      " 7   internet  382 non-null    object\n",
      " 8   goout.x   382 non-null    int64 \n",
      " 9   goout.y   382 non-null    int64 \n",
      " 10  Dalc.x    382 non-null    int64 \n",
      " 11  Dalc.y    382 non-null    int64 \n",
      " 12  Walc.x    382 non-null    int64 \n",
      " 13  Walc.y    382 non-null    int64 \n",
      " 14  G1.x      382 non-null    int64 \n",
      " 15  G2.x      382 non-null    int64 \n",
      " 16  G3.x      382 non-null    int64 \n",
      " 17  G1.y      382 non-null    int64 \n",
      " 18  G2.y      382 non-null    int64 \n",
      " 19  G3.y      382 non-null    int64 \n",
      "dtypes: int64(13), object(7)\n",
      "memory usage: 59.8+ KB\n"
     ]
    }
   ],
   "source": [
    "# Data information\n",
    "df.info()"
   ],
   "metadata": {
    "collapsed": false,
    "pycharm": {
     "name": "#%%\n"
    }
   }
  },
  {
   "cell_type": "markdown",
   "source": [
    "Our target in this case is G3 or Final Grade, and from description each variable above, there are 2 parameters that have strong and direct correlation with G3, namely G1 ang G2. And because of that, this situation could bias our model later, so we need to remove G1 and G2. Since the values of some of the x and y named are the same, we can remove them too."
   ],
   "metadata": {
    "collapsed": false,
    "pycharm": {
     "name": "#%% md\n"
    }
   }
  },
  {
   "cell_type": "code",
   "execution_count": 148,
   "outputs": [],
   "source": [
    "#split the dataset into 2 dataframes: X_df and Y_df. The former should contain all the independent variables present in the dataset, while the latter contains all the dependent variables.\n",
    "\n",
    "x_data = [\"school\",\"sex\",\"age\",\"address\",\"famsize\",\"reason\",\"nursery\",\"internet\",\"goout.x\",\"Dalc.x\",\"Walc.x\"]\n",
    "X_df = select_columns(df, x_data)\n",
    "y_data = [\"G3.x\",\"G3.y\"]\n",
    "Y_df = select_columns(df, y_data)"
   ],
   "metadata": {
    "collapsed": false,
    "pycharm": {
     "name": "#%%\n"
    }
   }
  },
  {
   "cell_type": "markdown",
   "source": [
    "In order to split the data into independent and dependent variables, it lies on the question of what variable is dependent on the other. When you look at the attributes, they represent the individual attributes or so as to speak independent conditions that don't lie in the choice of the student.\n",
    "However the performance of the student relies on his environment and conditions. In this case,  the attributes provided by the data set, making the performance dependent on the said attributes."
   ],
   "metadata": {
    "collapsed": false
   }
  },
  {
   "cell_type": "markdown",
   "metadata": {},
   "source": [
    "#### Question 1b\n",
    "\n",
    "**You are not permitted to use all variables in your analysis**.\n",
    "Using the *Data Assignment* script above, you will receive the variables you are allowed to use.\n",
    "Before you go any further, you should take a look at the variables that have been assigned to you. For these variables, you will add 1 quadratic term and 1 interaction term.\n",
    "\n",
    "A Quadratic Term is a transformation of an existing variable. Let's say I have variable $x$ in my dataset, the quadratic term would then be $x^2$. Make the quadratic term that is asked from you by the *Data Assignment* script, and add it to the dataframe containing your independent variables. Note: when you add a quadratic term of a variable which is not yet in your dataframe, you also need to add the underlying variable to your dataframe! Otherwise, your analyses will not make any sense.\n",
    "\n",
    "An Interaction Term is the multiplication of two existing terms. Let's say I have variables $x$ and $y$ in my dataset, the interaction term would then be $x*y$. Note: the same remark as with the quadratic term holds. The original terms also need to be present in your dataframe. If they are not in there yet, please add them!\n",
    "\n",
    "\n",
    "Make a new dataframe, called *X_df_complete* in which you select the relevant dependent variables and add the Quadratic and Interaction Term. Do so here:"
   ]
  },
  {
   "cell_type": "code",
   "execution_count": 149,
   "metadata": {},
   "outputs": [
    {
     "data": {
      "text/plain": "   Walc.x  Dalc.x  goout.x  WalcQuadTerm  goOutDalcInterTerm  G3\n0       1       1        2             1                   2  12\n1       4       2        4            16                  16   8\n2       1       1        1             1                   1  12\n3       1       1        2             1                   2   9\n4       3       2        1             9                   3  12",
      "text/html": "<div>\n<style scoped>\n    .dataframe tbody tr th:only-of-type {\n        vertical-align: middle;\n    }\n\n    .dataframe tbody tr th {\n        vertical-align: top;\n    }\n\n    .dataframe thead th {\n        text-align: right;\n    }\n</style>\n<table border=\"1\" class=\"dataframe\">\n  <thead>\n    <tr style=\"text-align: right;\">\n      <th></th>\n      <th>Walc.x</th>\n      <th>Dalc.x</th>\n      <th>goout.x</th>\n      <th>WalcQuadTerm</th>\n      <th>goOutDalcInterTerm</th>\n      <th>G3</th>\n    </tr>\n  </thead>\n  <tbody>\n    <tr>\n      <th>0</th>\n      <td>1</td>\n      <td>1</td>\n      <td>2</td>\n      <td>1</td>\n      <td>2</td>\n      <td>12</td>\n    </tr>\n    <tr>\n      <th>1</th>\n      <td>4</td>\n      <td>2</td>\n      <td>4</td>\n      <td>16</td>\n      <td>16</td>\n      <td>8</td>\n    </tr>\n    <tr>\n      <th>2</th>\n      <td>1</td>\n      <td>1</td>\n      <td>1</td>\n      <td>1</td>\n      <td>1</td>\n      <td>12</td>\n    </tr>\n    <tr>\n      <th>3</th>\n      <td>1</td>\n      <td>1</td>\n      <td>2</td>\n      <td>1</td>\n      <td>2</td>\n      <td>9</td>\n    </tr>\n    <tr>\n      <th>4</th>\n      <td>3</td>\n      <td>2</td>\n      <td>1</td>\n      <td>9</td>\n      <td>3</td>\n      <td>12</td>\n    </tr>\n  </tbody>\n</table>\n</div>"
     },
     "execution_count": 149,
     "metadata": {},
     "output_type": "execute_result"
    }
   ],
   "source": [
    "# make complete dataframe\n",
    "#quadratic terms\n",
    "X_df[\"WalcQuadTerm\"] = X_df[\"Walc.x\"] * X_df[\"Walc.x\"]\n",
    "#interaction term\n",
    "X_df[\"goOutDalcInterTerm\"] = X_df[\"goout.x\"] * X_df[\"Walc.x\"]\n",
    "newDataSet = [\"Walc.x\", \"Dalc.x\", \"goout.x\",\"WalcQuadTerm\",\"goOutDalcInterTerm\"]\n",
    "X_df_complete = select_columns(X_df, newDataSet)\n",
    "grade1 = Y_df[\"G3.x\"]\n",
    "grade2 = Y_df[\"G3.y\"]\n",
    "Y_df[\"G3\"] = (grade2 + grade1)/2\n",
    "grade = Y_df[\"G3\"].round().astype('int64')\n",
    "X_df_complete = pd.concat([X_df_complete,grade], axis = 1)\n",
    "X_df_complete.head(5)"
   ]
  },
  {
   "cell_type": "code",
   "execution_count": 150,
   "outputs": [
    {
     "name": "stdout",
     "output_type": "stream",
     "text": [
      "18\n"
     ]
    }
   ],
   "source": [
    "max_value_column = X_df_complete[\"G3\"].max()\n",
    "print(max_value_column)"
   ],
   "metadata": {
    "collapsed": false,
    "pycharm": {
     "name": "#%%\n"
    }
   }
  },
  {
   "cell_type": "markdown",
   "metadata": {},
   "source": [
    "#### Question 1c\n",
    "\n",
    "What does the Interaction Term and the Quadratic Term signify? Investigate, illustrate with graphs, and report below:"
   ]
  },
  {
   "cell_type": "markdown",
   "source": [
    "Our goal is to explore how the going out are related to the students performance.  Additionally, we are interested to know how drinking alcohol on  weekdays affects the relationship between going out and the performance."
   ],
   "metadata": {
    "collapsed": false
   }
  },
  {
   "cell_type": "code",
   "execution_count": 151,
   "metadata": {},
   "outputs": [
    {
     "data": {
      "text/plain": "<Figure size 690.375x432 with 1 Axes>",
      "image/png": "[encoded data removed]"
     },
     "metadata": {
      "needs_background": "light"
     },
     "output_type": "display_data"
    }
   ],
   "source": [
    "X_df_complete = X_df_complete.rename(columns={\"goout.x\": \"goout\", \"Dalc.x\": \"Dalc\"})\n",
    "x =X_df_complete[\"goout\"]\n",
    "x2 = X_df_complete[\"Dalc\"]\n",
    "y = X_df_complete[\"G3\"]\n",
    "\n",
    "sns.lmplot(x='goout', y='G3',hue = \"Dalc\", data=X_df_complete, fit_reg=False, palette='viridis', height=6, aspect=1.5)\n",
    "plt.ylabel(\"Perfomance\")\n",
    "plt.xlabel(\"Going out\");"
   ]
  },
  {
   "cell_type": "markdown",
   "source": [
    "This dataset shows a number of parameters for different performances. The goal is to predict performance (G3) and the underlying effects of going out (goout.x) and drinking on weekdays (dalc.x). That is, we wish to regress G3 on goout and dalc.\n",
    "\n",
    "In a regression equation, an interaction effect is represented as the product of two or more independent variables."
   ],
   "metadata": {
    "collapsed": false
   }
  },
  {
   "cell_type": "markdown",
   "source": [
    "#### Building the Regression Model"
   ],
   "metadata": {
    "collapsed": false,
    "pycharm": {
     "name": "#%% md\n"
    }
   }
  },
  {
   "cell_type": "markdown",
   "source": [
    "First, let’s ignore the interaction term. When we regress dose and gender against anxiety, we get the following regression table."
   ],
   "metadata": {
    "collapsed": false
   }
  },
  {
   "cell_type": "code",
   "execution_count": 152,
   "outputs": [
    {
     "data": {
      "text/plain": "<class 'statsmodels.iolib.table.SimpleTable'>",
      "text/html": "<table class=\"simpletable\">\n<tr>\n      <td></td>         <th>coef</th>     <th>std err</th>      <th>t</th>      <th>P>|t|</th>  <th>[0.025</th>    <th>0.975]</th>  \n</tr>\n<tr>\n  <th>Intercept</th> <td>   13.0449</td> <td>    0.516</td> <td>   25.274</td> <td> 0.000</td> <td>   12.030</td> <td>   14.060</td>\n</tr>\n<tr>\n  <th>goout</th>     <td>   -0.2860</td> <td>    0.153</td> <td>   -1.868</td> <td> 0.062</td> <td>   -0.587</td> <td>    0.015</td>\n</tr>\n<tr>\n  <th>Dalc</th>      <td>   -0.4726</td> <td>    0.196</td> <td>   -2.417</td> <td> 0.016</td> <td>   -0.857</td> <td>   -0.088</td>\n</tr>\n</table>"
     },
     "execution_count": 152,
     "metadata": {},
     "output_type": "execute_result"
    }
   ],
   "source": [
    "model = smf.ols(formula='G3 ~ goout + Dalc', data = X_df_complete).fit()\n",
    "summary = model.summary()\n",
    "summary.tables[1]"
   ],
   "metadata": {
    "collapsed": false,
    "pycharm": {
     "name": "#%%\n"
    }
   }
  },
  {
   "cell_type": "markdown",
   "source": [
    "The resulting model is written as:\n",
    "\n",
    "G3 = β0 + β1 ⋅ goout + β2 ⋅ dalc\n",
    "\n",
    "The coefficients of the model can be read as follows:\n",
    "\n",
    "For every 1 unit increase in going out , performance decreases by 0.28 (holding Dalc constant)\n",
    "For every 1 unit increase in drinking alcohol on weekdays, performance decreases by 0.47 (holding goout constant)\n",
    "At 0 weight and 0 cylinders, we expect performace to be 13"
   ],
   "metadata": {
    "collapsed": false
   }
  },
  {
   "cell_type": "code",
   "execution_count": 153,
   "outputs": [
    {
     "name": "stdout",
     "output_type": "stream",
     "text": [
      "0.026917928451858808\n"
     ]
    }
   ],
   "source": [
    "print(model.rsquared_adj)"
   ],
   "metadata": {
    "collapsed": false,
    "pycharm": {
     "name": "#%%\n"
    }
   }
  },
  {
   "cell_type": "markdown",
   "source": [
    "Finally, this model has an adjusted R2 of 0.026 - we will look to improve this with an interaction term."
   ],
   "metadata": {
    "collapsed": false,
    "pycharm": {
     "name": "#%% md\n"
    }
   }
  },
  {
   "cell_type": "markdown",
   "source": [
    "#### Modeling the Interaction between going out and drinking alcohol on weekdays"
   ],
   "metadata": {
    "collapsed": false,
    "pycharm": {
     "name": "#%% md\n"
    }
   }
  },
  {
   "cell_type": "markdown",
   "source": [
    "By claiming there may be an interaction between going out and drinking on weekdays, we are saying that we believe the relationship between the going out and the perfomance is different for drinking on weekdays."
   ],
   "metadata": {
    "collapsed": false
   }
  },
  {
   "cell_type": "code",
   "execution_count": 154,
   "outputs": [
    {
     "data": {
      "text/plain": "<class 'statsmodels.iolib.table.SimpleTable'>",
      "text/html": "<table class=\"simpletable\">\n<tr>\n       <td></td>         <th>coef</th>     <th>std err</th>      <th>t</th>      <th>P>|t|</th>  <th>[0.025</th>    <th>0.975]</th>  \n</tr>\n<tr>\n  <th>Intercept</th>  <td>   13.6653</td> <td>    0.987</td> <td>   13.852</td> <td> 0.000</td> <td>   11.726</td> <td>   15.605</td>\n</tr>\n<tr>\n  <th>goout</th>      <td>   -0.4616</td> <td>    0.283</td> <td>   -1.631</td> <td> 0.104</td> <td>   -1.018</td> <td>    0.095</td>\n</tr>\n<tr>\n  <th>Dalc</th>       <td>   -0.9124</td> <td>    0.627</td> <td>   -1.455</td> <td> 0.146</td> <td>   -2.145</td> <td>    0.321</td>\n</tr>\n<tr>\n  <th>goout:Dalc</th> <td>    0.1185</td> <td>    0.160</td> <td>    0.738</td> <td> 0.461</td> <td>   -0.197</td> <td>    0.434</td>\n</tr>\n</table>"
     },
     "execution_count": 154,
     "metadata": {},
     "output_type": "execute_result"
    }
   ],
   "source": [
    "model_interaction  = smf.ols(formula='G3 ~ goout + Dalc + goout:Dalc', data = X_df_complete).fit()\n",
    "summary = model_interaction .summary()\n",
    "summary.tables[1]"
   ],
   "metadata": {
    "collapsed": false,
    "pycharm": {
     "name": "#%%\n"
    }
   }
  },
  {
   "cell_type": "markdown",
   "source": [
    "In contrast to the previous formulation, our new formulation is:\n",
    "\n",
    "G3 = β0 + β1 * goout + β2 * dalc + B3 * goout * dalc\n",
    "\n"
   ],
   "metadata": {
    "collapsed": false
   }
  },
  {
   "cell_type": "code",
   "execution_count": 155,
   "outputs": [
    {
     "name": "stdout",
     "output_type": "stream",
     "text": [
      "0.025748165752039198\n"
     ]
    }
   ],
   "source": [
    "print(model_interaction.rsquared_adj)"
   ],
   "metadata": {
    "collapsed": false,
    "pycharm": {
     "name": "#%%\n"
    }
   }
  },
  {
   "cell_type": "markdown",
   "source": [
    "The adjusted R2 of our model is 0.025 remains the same. We also see that the coefficients on both going out and dalc have changed, but remain insignificant, and the interaction term (which is the same as gout * dalc) is insignificant. This is evidence that there is an interaction between the variables"
   ],
   "metadata": {
    "collapsed": false
   }
  },
  {
   "cell_type": "markdown",
   "source": [
    "#### Visualizing Interacting Terms"
   ],
   "metadata": {
    "collapsed": false
   }
  },
  {
   "cell_type": "code",
   "execution_count": 156,
   "outputs": [
    {
     "data": {
      "text/plain": "<Figure size 646.75x360 with 1 Axes>",
      "image/png": "[encoded data removed]"
     },
     "metadata": {
      "needs_background": "light"
     },
     "output_type": "display_data"
    }
   ],
   "source": [
    "X_df_complete['Dalc_med'] = X_df_complete.Dalc > X_df_complete.Dalc.median()\n",
    "X_df_complete['Dalc_med'] = np.where(X_df_complete.Dalc_med == False, \"Below Median\", \"Above Median\")\n",
    "sns.lmplot(x='goout', y='G3', hue='Dalc_med', data=X_df_complete, ci=None, height=5, aspect=1.5);"
   ],
   "metadata": {
    "collapsed": false,
    "pycharm": {
     "name": "#%%\n"
    }
   }
  },
  {
   "cell_type": "markdown",
   "source": [],
   "metadata": {
    "collapsed": false
   }
  },
  {
   "cell_type": "markdown",
   "source": [
    "#### Quadratic term Explanation\n",
    "Quadratic regression is a type of regression we can use to quantify the relationship between a indepedent variable and a dependent variable when the true relationships is quadratic."
   ],
   "metadata": {
    "collapsed": false
   }
  },
  {
   "cell_type": "code",
   "execution_count": 157,
   "outputs": [
    {
     "data": {
      "text/plain": "<Figure size 432x288 with 1 Axes>",
      "image/png": "[encoded data removed]"
     },
     "metadata": {
      "needs_background": "light"
     },
     "output_type": "display_data"
    }
   ],
   "source": [
    "## code exploring the quadratic term\n",
    "x = X_df_complete.WalcQuadTerm\n",
    "y = X_df_complete[\"G3\"]\n",
    "\n",
    "mymodel = np.poly1d(np.polyfit(x, y, 3))\n",
    "\n",
    "myline = np.linspace(x.min(), x.max(), y.max())\n",
    "\n",
    "plt.plot(myline, mymodel(myline))\n",
    "plt.show()"
   ],
   "metadata": {
    "collapsed": false,
    "pycharm": {
     "name": "#%%\n"
    }
   }
  },
  {
   "cell_type": "markdown",
   "metadata": {
    "pycharm": {
     "name": "#%% md\n"
    }
   },
   "source": [
    "#### Question 1d\n",
    "\n",
    "Form your training and test set. Explain why you do this."
   ]
  },
  {
   "cell_type": "code",
   "metadata": {
    "pycharm": {
     "name": "#%%\n"
    }
   },
   "source": [
    "## code making the training and test set\n",
    "X_df_complete = X_df_complete[['Walc.x', 'Dalc', 'goout','G3']]\n",
    "X= X_df_complete[['Walc.x']]\n",
    "y = X_df_complete['G3']\n",
    "x_train, x_test, y_train, y_test = train_test_split(X, y, test_size = 0.3, random_state = 100)"
   ],
   "execution_count": 158,
   "outputs": []
  },
  {
   "cell_type": "markdown",
   "source": [
    "Here I have used the ‘train_test_split’ to split the data in 70:30 ratio i.e. 70% of the data will be used for training the model while 20% will be used for testing the model that is built out of it.\n",
    "\n",
    "The train-test split is a technique for evaluating the performance of a machine learning algorithm.\n",
    "\n",
    "It can be used for classification or regression problems and can be used for any supervised learning algorithm.\n",
    "\n",
    "The procedure involves taking a dataset and dividing it into two subsets. The first subset is used to fit the model and is referred to as the training dataset. The second subset is not used to train the model; instead, the input element of the dataset is provided to the model, then predictions are made and compared to the expected values. This second dataset is referred to as the test dataset."
   ],
   "metadata": {
    "collapsed": false
   }
  },
  {
   "cell_type": "code",
   "execution_count": 159,
   "outputs": [
    {
     "data": {
      "text/plain": "<Figure size 432x288 with 2 Axes>",
      "image/png": "[encoded data removed]"
     },
     "metadata": {
      "needs_background": "light"
     },
     "output_type": "display_data"
    }
   ],
   "source": [
    "#Visualising the data using heatmap\n",
    "plt.figure()\n",
    "sns.heatmap(X_df_complete.corr(),cmap='coolwarm')\n",
    "plt.show()"
   ],
   "metadata": {
    "collapsed": false,
    "pycharm": {
     "name": "#%%\n"
    }
   }
  },
  {
   "cell_type": "markdown",
   "metadata": {},
   "source": [
    "# *Intermezzo*\n",
    "\n",
    "Note the nice formatting we have used in Question 1. It is expected of you to do the same for Questions 2-5. Because I do not know exactly what you will do in each of these questions, I have not provided a blueprint of the solutions formatting."
   ]
  },
  {
   "cell_type": "markdown",
   "metadata": {},
   "source": [
    "### Question 2: Regression"
   ]
  },
  {
   "cell_type": "markdown",
   "metadata": {},
   "source": [
    "You will note that the dependent variable is continuous. Perform a regression analysis. (Also experiment with the interaction & quadratic terms, and report on what happens). Be complete!"
   ]
  },
  {
   "cell_type": "markdown",
   "metadata": {
    "pycharm": {
     "name": "#%% md\n"
    }
   },
   "source": [
    "### Linear regression"
   ]
  },
  {
   "cell_type": "code",
   "execution_count": 160,
   "outputs": [
    {
     "data": {
      "text/plain": "<Figure size 432x288 with 1 Axes>",
      "image/png": "[encoded data removed]"
     },
     "metadata": {
      "needs_background": "light"
     },
     "output_type": "display_data"
    }
   ],
   "source": [
    "#Fit the model over the training dataset\n",
    "model = LinearRegression()\n",
    "model.fit(X,y)\n",
    "# Visualizing the Linear Regression results\n",
    "def viz_linear():\n",
    "\tplt.scatter(X, y, color='red')\n",
    "\tplt.plot(X, model.predict(X), color='blue')\n",
    "\tplt.title('Linear Regression')\n",
    "\tplt.xlabel('Attributes')\n",
    "\tplt.ylabel('Perfomance')\n",
    "\tplt.show()\n",
    "\treturn\n",
    "viz_linear()"
   ],
   "metadata": {
    "collapsed": false,
    "pycharm": {
     "name": "#%%\n"
    }
   }
  },
  {
   "cell_type": "code",
   "execution_count": 161,
   "outputs": [
    {
     "name": "stdout",
     "output_type": "stream",
     "text": [
      "Intercept (Beta 0): 11.935315632619885\n",
      "Slope (Beta 1): -0.22578569493362233\n"
     ]
    }
   ],
   "source": [
    "#Calculate intercept and coefficient\n",
    "model = LinearRegression()\n",
    "model.fit(x_train,y_train)\n",
    "print(\"Intercept (Beta 0): {}\".format(model.intercept_))\n",
    "print(\"Slope (Beta 1): {}\".format(model.coef_[0]))"
   ],
   "metadata": {
    "collapsed": false,
    "pycharm": {
     "name": "#%%\n"
    }
   }
  },
  {
   "cell_type": "code",
   "execution_count": 162,
   "outputs": [],
   "source": [
    "predictions=model.predict(x_test)"
   ],
   "metadata": {
    "collapsed": false,
    "pycharm": {
     "name": "#%%\n"
    }
   }
  },
  {
   "cell_type": "markdown",
   "source": [
    "#### Model Evaluation"
   ],
   "metadata": {
    "collapsed": false
   }
  },
  {
   "cell_type": "code",
   "execution_count": 163,
   "outputs": [
    {
     "name": "stdout",
     "output_type": "stream",
     "text": [
      "MSE :  11.280481651346081\n"
     ]
    }
   ],
   "source": [
    "#Calculate root mean squared error to evaluate model performance\n",
    "from sklearn.metrics import mean_squared_error\n",
    "mse = mean_squared_error(y_test,predictions)\n",
    "print('MSE : ', mean_squared_error(y_test,predictions))"
   ],
   "metadata": {
    "collapsed": false,
    "pycharm": {
     "name": "#%%\n"
    }
   }
  },
  {
   "cell_type": "code",
   "execution_count": 164,
   "outputs": [
    {
     "name": "stdout",
     "output_type": "stream",
     "text": [
      "The R2 score of the model on the test set is: 0.01319987581391302\n"
     ]
    }
   ],
   "source": [
    "print('The R2 score of the model on the test set is:', model.score(X, y))"
   ],
   "metadata": {
    "collapsed": false,
    "pycharm": {
     "name": "#%%\n"
    }
   }
  },
  {
   "cell_type": "markdown",
   "source": [
    "#### Linear regression Explanation\n",
    "In contrast to the amount of the test data, the mean squared error represents an approximate 11% and the Root Mean Square Error 1%. This goes to show that the model is reliable in the prediction of performance as lower the value is, the better the model’s performance."
   ],
   "metadata": {
    "collapsed": false,
    "pycharm": {
     "name": "#%% md\n"
    }
   }
  },
  {
   "cell_type": "markdown",
   "source": [
    "#### Polynomial Regression"
   ],
   "metadata": {
    "collapsed": false
   }
  },
  {
   "cell_type": "code",
   "execution_count": 165,
   "outputs": [
    {
     "name": "stdout",
     "output_type": "stream",
     "text": [
      "The R2 score of this model on the train set is: 0.012985859302238945\n"
     ]
    },
    {
     "data": {
      "text/plain": "<Figure size 432x288 with 1 Axes>",
      "image/png": "[encoded data removed]"
     },
     "metadata": {
      "needs_background": "light"
     },
     "output_type": "display_data"
    }
   ],
   "source": [
    "def poly_test(x):\n",
    "\tpol_exp = PolynomialFeatures(degree=x)\n",
    "\tmodel = LinearRegression()\n",
    "\tmodel.fit(pol_exp.fit_transform(x_train), y_train)\n",
    "\tprint('The R2 score of this model on the train set is:', model.score(pol_exp.fit_transform(x_train), y_train))\n",
    "\t#plt.scatter(X_train, y_train)\n",
    "\tx = np.linspace(x_train.min(), x_train.max(), 100).reshape(-1,1)\n",
    "\tplt.plot(x_train, y_train, 'o')\n",
    "\tplt.plot(x, model.predict(pol_exp.fit_transform(x)))\n",
    "\tplt.show()\n",
    "\n",
    "poly_test(5)"
   ],
   "metadata": {
    "collapsed": false,
    "pycharm": {
     "name": "#%%\n"
    }
   }
  },
  {
   "cell_type": "markdown",
   "source": [
    "#### Polynomial Regression Explanation\n",
    "The polynomial seems be more accurate as its predcition nears the most accuracy. However the deviation between the two models is a equal or less than 5 %. This is to suggest that although ther exists a slight difference, both should be equally reliable as they both house adequate predicitions. To test out this hypothesis, feel free to change the number \"3\" above."
   ],
   "metadata": {
    "collapsed": false
   }
  },
  {
   "cell_type": "markdown",
   "source": [
    "### Question 3: Classification"
   ],
   "metadata": {
    "collapsed": false
   }
  },
  {
   "cell_type": "markdown",
   "metadata": {},
   "source": [
    "Though we know that the dependent variable is continuous, this does not by any means mean that we can't perform a classification analysis. Encode the dependent variables into several categories you find logical (report which ones and why), and perform a classification analysis on this encoded variable. (Once again, don't be too fast to omit the interaction & quadratic terms). Be complete!"
   ]
  },
  {
   "cell_type": "markdown",
   "source": [
    "#### Logistic regression"
   ],
   "metadata": {
    "collapsed": false
   }
  },
  {
   "cell_type": "code",
   "execution_count": 166,
   "metadata": {},
   "outputs": [
    {
     "name": "stderr",
     "output_type": "stream",
     "text": [
      "<ipython-input-166-90c09ac6af35>:2: SettingWithCopyWarning: \n",
      "A value is trying to be set on a copy of a slice from a DataFrame.\n",
      "Try using .loc[row_indexer,col_indexer] = value instead\n",
      "\n",
      "See the caveats in the documentation: https://pandas.pydata.org/pandas-docs/stable/user_guide/indexing.html#returning-a-view-versus-a-copy\n",
      "  X_df_complete['final_grade'] = np.where(X_df_complete['G3'] >= 10, 1, 0)\n"
     ]
    }
   ],
   "source": [
    "#Depending on the the final grade G3, we categoize according to perfomance for the model\n",
    "X_df_complete['final_grade'] = np.where(X_df_complete['G3'] >= 10, 1, 0)\n"
   ]
  },
  {
   "cell_type": "code",
   "execution_count": 167,
   "outputs": [],
   "source": [
    "#Create new training testing set\n",
    "X =  X_df_complete[['Walc.x', 'Dalc', 'goout']].values\n",
    "y = X_df_complete['final_grade']\n",
    "x_train, x_test, y_train, y_test = train_test_split(X,y, test_size=0.25, random_state=0)"
   ],
   "metadata": {
    "collapsed": false,
    "pycharm": {
     "name": "#%%\n"
    }
   }
  },
  {
   "cell_type": "markdown",
   "source": [
    "#### Data Exploration"
   ],
   "metadata": {
    "collapsed": false
   }
  },
  {
   "cell_type": "code",
   "execution_count": 168,
   "outputs": [
    {
     "data": {
      "text/plain": "<Figure size 432x288 with 1 Axes>",
      "image/png": "[encoded data removed]"
     },
     "metadata": {
      "needs_background": "light"
     },
     "output_type": "display_data"
    }
   ],
   "source": [
    "frequency = sns.countplot(x=X_df_complete[\"final_grade\"], data=X_df_complete).set(title = \"Frequency plot of the variable: Grade\")"
   ],
   "metadata": {
    "collapsed": false,
    "pycharm": {
     "name": "#%%\n"
    }
   }
  },
  {
   "cell_type": "markdown",
   "source": [
    "Logistic regression automatically comes with regularization so it is extremely important to scale the data, otherwise the coefficients of some features may be unfairly penalized."
   ],
   "metadata": {
    "collapsed": false,
    "pycharm": {
     "name": "#%% md\n"
    }
   }
  },
  {
   "cell_type": "code",
   "execution_count": 169,
   "outputs": [],
   "source": [
    "#scaler object\n",
    "scaler = StandardScaler()\n",
    "\n",
    "# Fit the scale on dataset\n",
    "X_train_scaled = scaler.fit_transform(x_train)\n",
    "X_test_scaled = scaler.transform(x_test)\n"
   ],
   "metadata": {
    "collapsed": false,
    "pycharm": {
     "name": "#%%\n"
    }
   }
  },
  {
   "cell_type": "code",
   "execution_count": 170,
   "outputs": [
    {
     "data": {
      "text/plain": "LogisticRegression(max_iter=10000)"
     },
     "execution_count": 170,
     "metadata": {},
     "output_type": "execute_result"
    }
   ],
   "source": [
    "# all parameters not specified are set to their defaults\n",
    "logisticRegr = LogisticRegression(multi_class='auto', max_iter=10000)\n",
    "logisticRegr.fit(X_train_scaled, y_train)"
   ],
   "metadata": {
    "collapsed": false,
    "pycharm": {
     "name": "#%%\n"
    }
   }
  },
  {
   "cell_type": "code",
   "execution_count": 171,
   "outputs": [],
   "source": [
    "y_pred_class = logisticRegr.predict(X_test_scaled)"
   ],
   "metadata": {
    "collapsed": false,
    "pycharm": {
     "name": "#%%\n"
    }
   }
  },
  {
   "cell_type": "code",
   "execution_count": 172,
   "outputs": [
    {
     "name": "stdout",
     "output_type": "stream",
     "text": [
      "              precision    recall  f1-score   support\n",
      "\n",
      "           0       0.00      0.00      0.00        21\n",
      "           1       0.78      1.00      0.88        75\n",
      "\n",
      "    accuracy                           0.78        96\n",
      "   macro avg       0.39      0.50      0.44        96\n",
      "weighted avg       0.61      0.78      0.69        96\n",
      "\n"
     ]
    },
    {
     "name": "stderr",
     "output_type": "stream",
     "text": [
      "C:\\Users\\moses\\anaconda3\\lib\\site-packages\\sklearn\\metrics\\_classification.py:1221: UndefinedMetricWarning: Precision and F-score are ill-defined and being set to 0.0 in labels with no predicted samples. Use `zero_division` parameter to control this behavior.\n",
      "  _warn_prf(average, modifier, msg_start, len(result))\n"
     ]
    }
   ],
   "source": [
    "#Create class predictions (not predicted probabilities)\n",
    "print(metrics.classification_report(y_test, y_pred_class))"
   ],
   "metadata": {
    "collapsed": false,
    "pycharm": {
     "name": "#%%\n"
    }
   }
  },
  {
   "cell_type": "markdown",
   "source": [
    "It is important to note that the accuracy score is not particularly useful because there is a class imbalance in our data."
   ],
   "metadata": {
    "collapsed": false
   }
  },
  {
   "cell_type": "code",
   "source": [
    "metrics.f1_score(y_test, y_pred_class)"
   ],
   "metadata": {
    "collapsed": false,
    "pycharm": {
     "name": "#%%\n"
    }
   },
   "execution_count": 173,
   "outputs": [
    {
     "data": {
      "text/plain": "0.8771929824561403"
     },
     "execution_count": 173,
     "metadata": {},
     "output_type": "execute_result"
    }
   ]
  },
  {
   "cell_type": "markdown",
   "source": [
    "#### Logistsic Regression Explanation"
   ],
   "metadata": {
    "collapsed": false,
    "pycharm": {
     "name": "#%% md\n"
    }
   }
  },
  {
   "cell_type": "markdown",
   "source": [
    "From the model score above, it is safe to say that this model has a relatively high f1-score, which in turn translates to high accuracy in predciting G3 from the listed attributes Walc, Da"
   ],
   "metadata": {
    "collapsed": false,
    "pycharm": {
     "name": "#%% md\n"
    }
   }
  },
  {
   "cell_type": "markdown",
   "source": [
    "#### Decision Tree"
   ],
   "metadata": {
    "collapsed": false
   }
  },
  {
   "cell_type": "code",
   "execution_count": 174,
   "outputs": [],
   "source": [
    "tree = DecisionTreeClassifier()\n",
    "tree_fit = tree.fit(x_train, y_train)\n",
    "predictions = tree.predict(x_test)"
   ],
   "metadata": {
    "collapsed": false,
    "pycharm": {
     "name": "#%%\n"
    }
   }
  },
  {
   "cell_type": "markdown",
   "source": [
    "#### Model Evaluation\n",
    "#### Accuracy"
   ],
   "metadata": {
    "collapsed": false
   }
  },
  {
   "cell_type": "code",
   "execution_count": 175,
   "outputs": [
    {
     "name": "stdout",
     "output_type": "stream",
     "text": [
      "0.7708333333333334\n"
     ]
    }
   ],
   "source": [
    "score = tree_fit.score(x_test, y_test)\n",
    "print(score)"
   ],
   "metadata": {
    "collapsed": false,
    "pycharm": {
     "name": "#%%\n"
    }
   }
  },
  {
   "cell_type": "code",
   "execution_count": 176,
   "outputs": [
    {
     "data": {
      "text/plain": "<Figure size 432x288 with 1 Axes>",
      "image/png": "[encoded data removed]"
     },
     "metadata": {
      "needs_background": "light"
     },
     "output_type": "display_data"
    }
   ],
   "source": [
    "X, y = make_blobs(n_samples=300, centers=2,\n",
    "\t\t\t\t  random_state=0, cluster_std=1.0)\n",
    "plt.scatter(X[:, 0], X[:, 1], c=y, s=50, cmap='rainbow');"
   ],
   "metadata": {
    "collapsed": false,
    "pycharm": {
     "name": "#%%\n"
    }
   }
  },
  {
   "cell_type": "markdown",
   "source": [
    "The model, however showing a good score of 77%, might not be the best data model for this dataset. This comes from the fact that decision trees are \"tests\" on an attribute. Where each branch represents the outcome of the test, and each leaf node represents a class label.\n",
    "\n",
    "The students data set has two binary outcomes in regards to classification, where a student has passed or not. The attributes that are available are not enough as more attributes are needed from the orginal dataset."
   ],
   "metadata": {
    "collapsed": false
   }
  },
  {
   "cell_type": "markdown",
   "source": [
    "### K-Nearest Neighbours"
   ],
   "metadata": {
    "collapsed": false
   }
  },
  {
   "cell_type": "code",
   "execution_count": 177,
   "outputs": [
    {
     "data": {
      "text/plain": "9.797958971132712"
     },
     "execution_count": 177,
     "metadata": {},
     "output_type": "execute_result"
    }
   ],
   "source": [
    "import math\n",
    "\n",
    "math.sqrt(len(y_test))"
   ],
   "metadata": {
    "collapsed": false,
    "pycharm": {
     "name": "#%%\n"
    }
   }
  },
  {
   "cell_type": "code",
   "execution_count": 178,
   "outputs": [
    {
     "data": {
      "text/plain": "KNeighborsClassifier(metric='euclidean', n_neighbors=9)"
     },
     "execution_count": 178,
     "metadata": {},
     "output_type": "execute_result"
    }
   ],
   "source": [
    "neighbour = KNeighborsClassifier(n_neighbors=9,p=2,metric='euclidean')\n",
    "neighbour.fit(x_train,y_train)"
   ],
   "metadata": {
    "collapsed": false,
    "pycharm": {
     "name": "#%%\n"
    }
   }
  },
  {
   "cell_type": "code",
   "execution_count": 179,
   "outputs": [
    {
     "name": "stdout",
     "output_type": "stream",
     "text": [
      "F1_score : 0.8674698795180723\n",
      "Acuracy score: 0.7708333333333334\n"
     ]
    }
   ],
   "source": [
    "from sklearn.metrics import confusion_matrix, f1_score, accuracy_score\n",
    "\n",
    "y_pred =  neighbour.predict(x_test)\n",
    "y_pred\n",
    "print(f'F1_score : {f1_score(y_test,y_pred)}')\n",
    "print(f'Acuracy score: {accuracy_score(y_test,y_pred)}')"
   ],
   "metadata": {
    "collapsed": false,
    "pycharm": {
     "name": "#%%\n"
    }
   }
  },
  {
   "cell_type": "markdown",
   "source": [
    "Let’s plot the graph for the actual data and our predicted value."
   ],
   "metadata": {
    "collapsed": false,
    "pycharm": {
     "name": "#%% md\n"
    }
   }
  },
  {
   "cell_type": "code",
   "execution_count": 180,
   "outputs": [
    {
     "name": "stderr",
     "output_type": "stream",
     "text": [
      "C:\\Users\\moses\\anaconda3\\lib\\site-packages\\seaborn\\distributions.py:2551: FutureWarning: `distplot` is a deprecated function and will be removed in a future version. Please adapt your code to use either `displot` (a figure-level function with similar flexibility) or `kdeplot` (an axes-level function for kernel density plots).\n",
      "  warnings.warn(msg, FutureWarning)\n",
      "C:\\Users\\moses\\anaconda3\\lib\\site-packages\\seaborn\\distributions.py:2551: FutureWarning: `distplot` is a deprecated function and will be removed in a future version. Please adapt your code to use either `displot` (a figure-level function with similar flexibility) or `kdeplot` (an axes-level function for kernel density plots).\n",
      "  warnings.warn(msg, FutureWarning)\n"
     ]
    },
    {
     "data": {
      "text/plain": "<Figure size 360x504 with 1 Axes>",
      "image/png": "[encoded data removed]"
     },
     "metadata": {
      "needs_background": "light"
     },
     "output_type": "display_data"
    }
   ],
   "source": [
    "import matplotlib.pyplot as plt\n",
    "plt.figure(figsize=(5, 7))\n",
    "ax = sns.distplot(X_df_complete['final_grade'], hist=False, color=\"r\", label=\"Actual Value\")\n",
    "sns.distplot(y_pred, hist=False, color=\"b\", label=\"Predicted Values\", ax=ax)\n",
    "plt.title('Actual vs Precited value for outcome')\n",
    "plt.show()\n",
    "plt.close()"
   ],
   "metadata": {
    "collapsed": false,
    "pycharm": {
     "name": "#%%\n"
    }
   }
  },
  {
   "cell_type": "markdown",
   "source": [
    "In regards to the differece between the actual vs predicted values, the model isn't as accurate in respect to the actual result. It would be highly inadvisable to continue or use this model to predict."
   ],
   "metadata": {
    "collapsed": false
   }
  },
  {
   "cell_type": "markdown",
   "source": [],
   "metadata": {
    "collapsed": false
   }
  },
  {
   "cell_type": "markdown",
   "source": [
    "#### Classification models analysis\n",
    "Upon classification anaysis, one can draw the conclusion that all of the models are more reliable in the case of predciting G3. After some iterations on the validity of the, i believe that logistic regression provided the best result for modelling predicitions."
   ],
   "metadata": {
    "collapsed": false,
    "pycharm": {
     "name": "#%% md\n"
    }
   }
  },
  {
   "cell_type": "markdown",
   "metadata": {},
   "source": [
    "### Question 4: Clustering"
   ]
  },
  {
   "cell_type": "markdown",
   "metadata": {},
   "source": [
    "Now we have analysed the dataset in a supervised manner, let's try and investigate whether this supervised dimension indeed offers additional information. Perform a cluster analysis on the dependent variables, and compare your predictive power with the models you have made in Question 2 and 3. Be complete!"
   ]
  },
  {
   "cell_type": "markdown",
   "source": [
    "#### K Means Clustering"
   ],
   "metadata": {
    "collapsed": false
   }
  },
  {
   "cell_type": "code",
   "execution_count": 181,
   "metadata": {},
   "outputs": [
    {
     "name": "stderr",
     "output_type": "stream",
     "text": [
      "C:\\Users\\moses\\anaconda3\\lib\\site-packages\\pandas\\core\\frame.py:4163: SettingWithCopyWarning: \n",
      "A value is trying to be set on a copy of a slice from a DataFrame\n",
      "\n",
      "See the caveats in the documentation: https://pandas.pydata.org/pandas-docs/stable/user_guide/indexing.html#returning-a-view-versus-a-copy\n",
      "  return super().drop(\n"
     ]
    }
   ],
   "source": [
    "X_df_complete.drop(['Walc.x','final_grade'], axis=1, inplace=True)"
   ]
  },
  {
   "cell_type": "code",
   "execution_count": 182,
   "outputs": [
    {
     "data": {
      "text/plain": "   Dalc  goout        G3\n0  0.00   0.25  0.666667\n1  0.25   0.75  0.444444\n2  0.00   0.00  0.666667\n3  0.00   0.25  0.500000\n4  0.25   0.00  0.666667",
      "text/html": "<div>\n<style scoped>\n    .dataframe tbody tr th:only-of-type {\n        vertical-align: middle;\n    }\n\n    .dataframe tbody tr th {\n        vertical-align: top;\n    }\n\n    .dataframe thead th {\n        text-align: right;\n    }\n</style>\n<table border=\"1\" class=\"dataframe\">\n  <thead>\n    <tr style=\"text-align: right;\">\n      <th></th>\n      <th>Dalc</th>\n      <th>goout</th>\n      <th>G3</th>\n    </tr>\n  </thead>\n  <tbody>\n    <tr>\n      <th>0</th>\n      <td>0.00</td>\n      <td>0.25</td>\n      <td>0.666667</td>\n    </tr>\n    <tr>\n      <th>1</th>\n      <td>0.25</td>\n      <td>0.75</td>\n      <td>0.444444</td>\n    </tr>\n    <tr>\n      <th>2</th>\n      <td>0.00</td>\n      <td>0.00</td>\n      <td>0.666667</td>\n    </tr>\n    <tr>\n      <th>3</th>\n      <td>0.00</td>\n      <td>0.25</td>\n      <td>0.500000</td>\n    </tr>\n    <tr>\n      <th>4</th>\n      <td>0.25</td>\n      <td>0.00</td>\n      <td>0.666667</td>\n    </tr>\n  </tbody>\n</table>\n</div>"
     },
     "execution_count": 182,
     "metadata": {},
     "output_type": "execute_result"
    }
   ],
   "source": [
    "from sklearn.preprocessing import MinMaxScaler\n",
    "\n",
    "scaler = MinMaxScaler()\n",
    "norm_mydata = X_df_complete.copy()\n",
    "def minmaxscaler(x):\n",
    "\tfor columnName, columnData in x.iteritems():\n",
    "\t\tx[columnName] = scaler.fit_transform(np.array(columnData).reshape(-1, 1))\n",
    "\n",
    "minmaxscaler(norm_mydata)\n",
    "norm_mydata.head()"
   ],
   "metadata": {
    "collapsed": false,
    "pycharm": {
     "name": "#%%\n"
    }
   }
  },
  {
   "cell_type": "code",
   "execution_count": 183,
   "outputs": [
    {
     "data": {
      "text/plain": "Text(0.5, 1.0, 'Elbow Curve to find optimum K')"
     },
     "execution_count": 183,
     "metadata": {},
     "output_type": "execute_result"
    },
    {
     "data": {
      "text/plain": "<Figure size 720x360 with 1 Axes>",
      "image/png": "[encoded data removed]"
     },
     "metadata": {
      "needs_background": "light"
     },
     "output_type": "display_data"
    }
   ],
   "source": [
    "k = list(range(2,11))\n",
    "sum_of_squared_distances = []\n",
    "for i in k:\n",
    "\tkmeans = KMeans(n_clusters=i)\n",
    "\tkmeans.fit(norm_mydata)\n",
    "\tsum_of_squared_distances.append(kmeans.inertia_)\n",
    "\n",
    "plt.figure(figsize=(10, 5))\n",
    "plt.plot(k, sum_of_squared_distances, 'go--')\n",
    "plt.xlabel('Number of Clusters')\n",
    "plt.ylabel('Within Cluster Sum of squares')\n",
    "plt.title('Elbow Curve to find optimum K')"
   ],
   "metadata": {
    "collapsed": false,
    "pycharm": {
     "name": "#%%\n"
    }
   }
  },
  {
   "cell_type": "code",
   "execution_count": 184,
   "outputs": [
    {
     "name": "stderr",
     "output_type": "stream",
     "text": [
      "<ipython-input-184-a739d7fbc11f>:11: SettingWithCopyWarning: \n",
      "A value is trying to be set on a copy of a slice from a DataFrame.\n",
      "Try using .loc[row_indexer,col_indexer] = value instead\n",
      "\n",
      "See the caveats in the documentation: https://pandas.pydata.org/pandas-docs/stable/user_guide/indexing.html#returning-a-view-versus-a-copy\n",
      "  X_df_complete['Cluster'] = y_pred + 1 #to start the cluster number from 1\n"
     ]
    }
   ],
   "source": [
    "# Instantiating\n",
    "kmeans3 = KMeans(n_clusters = 3)\n",
    "#remove all but goout, dalc, gout\n",
    "# Training the model\n",
    "kmeans3.fit(norm_mydata)\n",
    "\n",
    "# predicting\n",
    "y_pred = kmeans3.fit_predict(norm_mydata)\n",
    "\n",
    "# Storing the y_pred values in a new column\n",
    "X_df_complete['Cluster'] = y_pred + 1 #to start the cluster number from 1"
   ],
   "metadata": {
    "collapsed": false,
    "pycharm": {
     "name": "#%%\n"
    }
   }
  },
  {
   "cell_type": "code",
   "execution_count": 186,
   "outputs": [
    {
     "data": {
      "text/plain": "       Dalc     goout        G3\n1  0.050847  0.347458  0.663606\n2  0.675676  0.763514  0.579580\n3  0.075688  0.839450  0.597350",
      "text/html": "<div>\n<style scoped>\n    .dataframe tbody tr th:only-of-type {\n        vertical-align: middle;\n    }\n\n    .dataframe tbody tr th {\n        vertical-align: top;\n    }\n\n    .dataframe thead th {\n        text-align: right;\n    }\n</style>\n<table border=\"1\" class=\"dataframe\">\n  <thead>\n    <tr style=\"text-align: right;\">\n      <th></th>\n      <th>Dalc</th>\n      <th>goout</th>\n      <th>G3</th>\n    </tr>\n  </thead>\n  <tbody>\n    <tr>\n      <th>1</th>\n      <td>0.050847</td>\n      <td>0.347458</td>\n      <td>0.663606</td>\n    </tr>\n    <tr>\n      <th>2</th>\n      <td>0.675676</td>\n      <td>0.763514</td>\n      <td>0.579580</td>\n    </tr>\n    <tr>\n      <th>3</th>\n      <td>0.075688</td>\n      <td>0.839450</td>\n      <td>0.597350</td>\n    </tr>\n  </tbody>\n</table>\n</div>"
     },
     "execution_count": 186,
     "metadata": {},
     "output_type": "execute_result"
    }
   ],
   "source": [
    "centroids = kmeans3.cluster_centers_\n",
    "centroids = pd.DataFrame(centroids, columns=[ 'Dalc', 'goout','G3'])\n",
    "centroids.index = np.arange(1, len(centroids)+1) # Start the index from 1\n",
    "centroids"
   ],
   "metadata": {
    "collapsed": false,
    "pycharm": {
     "name": "#%%\n"
    }
   }
  },
  {
   "cell_type": "code",
   "execution_count": 188,
   "outputs": [
    {
     "data": {
      "text/plain": "<AxesSubplot:xlabel='goout', ylabel='G3'>"
     },
     "execution_count": 188,
     "metadata": {},
     "output_type": "execute_result"
    },
    {
     "data": {
      "text/plain": "<Figure size 864x432 with 1 Axes>",
      "image/png": "[encoded data removed]"
     },
     "metadata": {
      "needs_background": "light"
     },
     "output_type": "display_data"
    }
   ],
   "source": [
    "plt.figure(figsize=(12,6))\n",
    "sns.set_palette(\"pastel\")\n",
    "sns.scatterplot(x=X_df_complete['goout'], y = X_df_complete['G3'], hue=X_df_complete['Cluster'], palette='bright')"
   ],
   "metadata": {
    "collapsed": false,
    "pycharm": {
     "name": "#%%\n"
    }
   }
  },
  {
   "cell_type": "markdown",
   "source": [],
   "metadata": {
    "collapsed": false
   }
  },
  {
   "cell_type": "markdown",
   "source": [
    "This model is the most unreliable as the clusters are based on a single number. As seen above, the data represents itself in a straight line."
   ],
   "metadata": {
    "collapsed": false
   }
  },
  {
   "cell_type": "markdown",
   "metadata": {},
   "source": [
    "#### Overall Analysis"
   ]
  },
  {
   "cell_type": "markdown",
   "metadata": {
    "pycharm": {
     "name": "#%% md\n"
    }
   },
   "source": [
    "From an overall analysis, the best method for predicting performance falls under the models under classification. This stems from the result that the classification methods have the highest f1-score, which combines predcition and accuracy score. However the highest score, it falls under the predcition on G3 rather than a metric of who passed ot failed. To have numerical data, the best method would fall under regression."
   ]
  }
 ],
 "metadata": {
  "kernelspec": {
   "display_name": "Python 3",
   "language": "python",
   "name": "python3"
  },
  "language_info": {
   "codemirror_mode": {
    "name": "ipython",
    "version": 3
   },
   "file_extension": ".py",
   "mimetype": "text/x-python",
   "name": "python",
   "nbconvert_exporter": "python",
   "pygments_lexer": "ipython3",
   "version": "3.8.6"
  }
 },
 "nbformat": 4,
 "nbformat_minor": 4
}